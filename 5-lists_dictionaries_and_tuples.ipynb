{
 "cells": [
  {
   "cell_type": "markdown",
   "metadata": {},
   "source": [
    "# Lists, Dictionaries and Tuples"
   ]
  },
  {
   "cell_type": "markdown",
   "metadata": {},
   "source": [
    "## Lists & tuples\n",
    "\n",
    "- List is a collection which is ordered and changeable. Allows duplicate members. my_list = []\n",
    "- Tuple is a collection which is ordered and unchangeable. Allows duplicate members. Tuple is like a constant list. my_tuple = () \n",
    "\n",
    "### Lists\n",
    "\n",
    "The last item index in list is -1.\n",
    "\n",
    "In order to add another item to a list we can use name.append()\n",
    "\n",
    "In order to add another item to a specific place to a list we can use name.insert(x,'')\n"
   ]
  },
  {
   "cell_type": "code",
   "execution_count": 2,
   "metadata": {},
   "outputs": [
    {
     "name": "stdout",
     "output_type": "stream",
     "text": [
      "['Education', 'History', 'Math', 'Physics', 'CompSci', 'Art']\n"
     ]
    }
   ],
   "source": [
    "courses = ['History', 'Math', 'Physics', 'CompSci']\n",
    "courses.append('Art')\n",
    "courses.insert(0, 'Education')\n",
    "print(courses)"
   ]
  },
  {
   "cell_type": "markdown",
   "metadata": {},
   "source": [
    "In order to add values from one list to another as individuals values and not as a list we use name.extend()"
   ]
  },
  {
   "cell_type": "code",
   "execution_count": 3,
   "metadata": {},
   "outputs": [
    {
     "name": "stdout",
     "output_type": "stream",
     "text": [
      "['Education', 'History', 'Math', 'Physics', 'CompSci', 'Art', 'Law', 'English']\n"
     ]
    }
   ],
   "source": [
    "courses_2 = ['Law' , 'English']\n",
    "courses.extend(courses_2)\n",
    "print(courses)"
   ]
  },
  {
   "cell_type": "markdown",
   "metadata": {},
   "source": [
    "### Remove"
   ]
  },
  {
   "cell_type": "code",
   "execution_count": 4,
   "metadata": {},
   "outputs": [
    {
     "name": "stdout",
     "output_type": "stream",
     "text": [
      "['Education', 'History', 'Physics', 'CompSci', 'Art', 'Law', 'English']\n"
     ]
    }
   ],
   "source": [
    "courses.remove('Math')\n",
    "print(courses)"
   ]
  },
  {
   "cell_type": "markdown",
   "metadata": {},
   "source": [
    "### Pop"
   ]
  },
  {
   "cell_type": "code",
   "execution_count": 5,
   "metadata": {},
   "outputs": [
    {
     "name": "stdout",
     "output_type": "stream",
     "text": [
      "English\n",
      "['Education', 'History', 'Physics', 'CompSci', 'Art', 'Law']\n"
     ]
    }
   ],
   "source": [
    "popped = courses.pop()\n",
    "print(popped)\n",
    "print(courses)"
   ]
  },
  {
   "cell_type": "markdown",
   "metadata": {},
   "source": [
    "### Reverse"
   ]
  },
  {
   "cell_type": "code",
   "execution_count": 6,
   "metadata": {},
   "outputs": [
    {
     "name": "stdout",
     "output_type": "stream",
     "text": [
      "['Law', 'Art', 'CompSci', 'Physics', 'History', 'Education']\n"
     ]
    }
   ],
   "source": [
    "courses.reverse()\n",
    "print(courses)"
   ]
  },
  {
   "cell_type": "markdown",
   "metadata": {},
   "source": [
    "### Sort - put the list in alphabet order\n",
    "### Sorted - function that do the same, but needs to be put in another variable"
   ]
  },
  {
   "cell_type": "code",
   "execution_count": 9,
   "metadata": {},
   "outputs": [
    {
     "name": "stdout",
     "output_type": "stream",
     "text": [
      "['Art', 'CompSci', 'Education', 'History', 'Physics']\n",
      "['Art', 'CompSci', 'Education', 'History', 'Physics']\n"
     ]
    }
   ],
   "source": [
    "courses.sort()\n",
    "sorted_courses = sorted(courses)\n",
    "print(courses)\n",
    "print(sorted_courses)"
   ]
  },
  {
   "cell_type": "markdown",
   "metadata": {},
   "source": [
    "We can use min, max and sum on lists of numbers the same as we use sorted, but without using another variable\n",
    "\n",
    "### Find index of a certain value"
   ]
  },
  {
   "cell_type": "code",
   "execution_count": 10,
   "metadata": {},
   "outputs": [
    {
     "name": "stdout",
     "output_type": "stream",
     "text": [
      "1\n"
     ]
    }
   ],
   "source": [
    "print(courses.index('CompSci'))"
   ]
  },
  {
   "cell_type": "markdown",
   "metadata": {},
   "source": [
    "### Enumerate"
   ]
  },
  {
   "cell_type": "code",
   "execution_count": 12,
   "metadata": {},
   "outputs": [
    {
     "name": "stdout",
     "output_type": "stream",
     "text": [
      "0 Art\n",
      "1 CompSci\n",
      "2 Education\n",
      "3 History\n",
      "4 Physics\n",
      "1 Art\n",
      "2 CompSci\n",
      "3 Education\n",
      "4 History\n",
      "5 Physics\n"
     ]
    }
   ],
   "source": [
    "for index, course in enumerate(courses):\n",
    "    print(index, course)\n",
    "for index, course in enumerate(courses, start=1):\n",
    "    print(index, course)"
   ]
  },
  {
   "cell_type": "markdown",
   "metadata": {},
   "source": [
    "### Range\n",
    "The range function has three different versions:\n",
    "\n",
    "1. range(stop)\n",
    "2. range(start, stop)\n",
    "3. range(start, stop, step)\n",
    "\n",
    "In all cases, the range() function returns a list of numbers from start up to (but not including) stop. Each item increases by step.\n",
    "\n",
    "If omitted, start defaults to 0 and step defaults to 1."
   ]
  },
  {
   "cell_type": "markdown",
   "metadata": {},
   "source": [
    "### \"join\" to take a list into a string and \"split\" to take a string into a list\n",
    "\n",
    "- You can specify the separator, default separator is any whitespace\n",
    "- string.split(separator, maxsplit):\n",
    "    separator - Optional. Specifies the separator to use when splitting the string. By default any whitespace is a separator.\n",
    "    maxsplit - \tOptional. Specifies how many splits to do. Default value is -1, which is \"all occurrences\""
   ]
  },
  {
   "cell_type": "code",
   "execution_count": 13,
   "metadata": {},
   "outputs": [
    {
     "name": "stdout",
     "output_type": "stream",
     "text": [
      "Art, CompSci, Education, History, Physics\n",
      "['Art', 'CompSci', 'Education', 'History', 'Physics']\n"
     ]
    }
   ],
   "source": [
    "course_str = ', '.join(courses)\n",
    "new_list = course_str.split(', ')\n",
    "print(course_str)\n",
    "print(new_list)"
   ]
  },
  {
   "cell_type": "markdown",
   "metadata": {},
   "source": [
    "### list in list"
   ]
  },
  {
   "cell_type": "code",
   "execution_count": 14,
   "metadata": {},
   "outputs": [
    {
     "name": "stdout",
     "output_type": "stream",
     "text": [
      "1\n",
      "2\n",
      "3\n",
      "4\n",
      "5\n",
      "6\n",
      "7\n",
      "8\n",
      "9\n",
      "0\n"
     ]
    }
   ],
   "source": [
    "number_grid = [[1, 2, 3], [4, 5, 6], [7, 8, 9], [0]]\n",
    "\n",
    "for row in number_grid:\n",
    "    for col in row:\n",
    "        print(col)"
   ]
  },
  {
   "cell_type": "markdown",
   "metadata": {},
   "source": [
    "## Sets and dictionaries\n",
    "\n",
    "- Set is a collection which is unordered and unindexed. No duplicate members.\n",
    "- Dictionary is a collection which is unordered, changeable and indexed. No duplicate members."
   ]
  },
  {
   "cell_type": "code",
   "execution_count": 17,
   "metadata": {},
   "outputs": [
    {
     "name": "stdout",
     "output_type": "stream",
     "text": [
      "{'green', 'orange', 'blue'}\n",
      "{'name': 'Gal', 'City': 'Tel Aviv'}\n",
      "Gal\n"
     ]
    }
   ],
   "source": [
    "my_set = set(['orange' , 'green' , 'green' , 'blue'])\n",
    "print(my_set)\n",
    "my_dict = {'name': 'Gal' , 'City': 'Tel Aviv'}\n",
    "print (my_dict)\n",
    "print(my_dict['name'])"
   ]
  },
  {
   "cell_type": "markdown",
   "metadata": {},
   "source": [
    "## Sets\n",
    "\n",
    "In order to add value to a set we use example.add(something)\n",
    "\n",
    "In order to remove a value from a set we use example.remove(something)\n",
    "\n",
    "Another method to remove is example.discard(something), and if that something doesn't exist it won't return us an Error\n",
    "\n",
    "In order to clean a set we use example.clear()\n",
    "\n",
    "In order to combine to sets we use example.union(other_example)\n",
    "\n",
    "In order to take out values that are exist in one list but not in the other we use example.intersection(other_example)"
   ]
  },
  {
   "cell_type": "markdown",
   "metadata": {},
   "source": [
    "## Dictionaries\n",
    "\n",
    "- In order to ensure an efficient retrieval of data dictionaries use hash functions to save data. A hash function maps data of arbitrary size to fixed-size integers. It means not every data type can be used as a key in a dictionary, only immutable objects. \n",
    "\n",
    "In order to check if a value is in the dictionary we use example.get('value')\n",
    "\n",
    "In order to print the whole dictionary we use example.items()\n",
    "\n",
    "### Update"
   ]
  },
  {
   "cell_type": "code",
   "execution_count": 19,
   "metadata": {},
   "outputs": [
    {
     "name": "stdout",
     "output_type": "stream",
     "text": [
      "name Yossi\n",
      "City Tel Aviv\n",
      "age 30\n"
     ]
    }
   ],
   "source": [
    "my_dict.update({'age': '30'})\n",
    "my_dict.update({'name': 'Yossi'})\n",
    "\n",
    "for key, value in my_dict.items():\n",
    "    print(key, value)"
   ]
  },
  {
   "cell_type": "markdown",
   "metadata": {},
   "source": [
    "### Pop"
   ]
  },
  {
   "cell_type": "code",
   "execution_count": 20,
   "metadata": {},
   "outputs": [
    {
     "name": "stdout",
     "output_type": "stream",
     "text": [
      "{'name': 'Yossi', 'City': 'Tel Aviv'}\n"
     ]
    }
   ],
   "source": [
    "my_dict.pop('age')\n",
    "print(my_dict)"
   ]
  },
  {
   "cell_type": "markdown",
   "metadata": {},
   "source": [
    "We also can remove items with del - del dict_name[key name]\n",
    "We also have the clear method in order to clear the dictionary. example.clear()\n",
    "\n",
    "## Data types\n",
    "\n",
    "- Immutable means that the data type's content cannot be altered after their creation, like strings and tuples and numbers. Mutable means the other way around, like lists, dictionaries and sets.\n",
    "- numeric value can be integer or floating numbers."
   ]
  },
  {
   "cell_type": "markdown",
   "metadata": {},
   "source": [
    "## Nested list\n",
    "\n",
    "A list can contain any sort object, even another list (sublist), which in turn can contain sublists themselves, and so on. This is known as nested list.\n",
    "\n",
    "You can use them to arrange data into hierarchical structures.\n",
    "\n",
    "All the methods that are available for lists are also available for nested lists.\n",
    "\n",
    "### Iterate through a Nested List"
   ]
  },
  {
   "cell_type": "code",
   "execution_count": 21,
   "metadata": {},
   "outputs": [
    {
     "name": "stdout",
     "output_type": "stream",
     "text": [
      "123456789"
     ]
    }
   ],
   "source": [
    "l = [[1, 2, 3] , [4, 5, 6] , [7, 8, 9]]\n",
    "for list_num in l:\n",
    "    for number in list_num:\n",
    "        print(number, end='')"
   ]
  },
  {
   "cell_type": "markdown",
   "metadata": {},
   "source": [
    "## Nested dictionary\n",
    "\n",
    "In Python, a nested dictionary is a dictionary inside a dictionary. It's a collection of dictionaries into one single dictionary.\n",
    "\n",
    "All the methods that are available for dictionaries are also available for nested dictionaries.\n",
    "\n",
    "1. Nested dictionary is an unordered collection of dictionary.\n",
    "2. Slicing Nested Dictionary is not possible.\n",
    "3. We can shrink or grow nested dictionary as need.\n",
    "4. Like Dictionary, it also has key and value.\n",
    "5. Dictionary are accessed using key.\n",
    "\n",
    "### Iterate through a Nested dictionary"
   ]
  },
  {
   "cell_type": "code",
   "execution_count": 22,
   "metadata": {},
   "outputs": [
    {
     "name": "stdout",
     "output_type": "stream",
     "text": [
      "\n",
      "Person ID 1\n",
      "name: Gal\n",
      "age: 30\n",
      "sex: Male\n",
      "\n",
      "Person ID 2\n",
      "name: Yossi\n",
      "age: 25\n",
      "sex: Male\n"
     ]
    }
   ],
   "source": [
    "people = {1: {'name': 'Gal' , 'age': '30' , 'sex': 'Male'} , \n",
    "          2: {'name': 'Yossi' , 'age': '25' , 'sex': 'Male'}}\n",
    "\n",
    "for p_id, p_info in people.items():\n",
    "    print('\\nPerson ID' , p_id)\n",
    "    for key in p_info:\n",
    "        print (key + ':' , p_info[key])"
   ]
  }
 ],
 "metadata": {
  "interpreter": {
   "hash": "48ed341b6f63f0053d590fe0e5e295e54b1bfed5059adeb0dc11192f2dc45088"
  },
  "kernelspec": {
   "display_name": "Python 3.9.7 ('.venv': venv)",
   "language": "python",
   "name": "python3"
  },
  "language_info": {
   "codemirror_mode": {
    "name": "ipython",
    "version": 3
   },
   "file_extension": ".py",
   "mimetype": "text/x-python",
   "name": "python",
   "nbconvert_exporter": "python",
   "pygments_lexer": "ipython3",
   "version": "3.10.4"
  },
  "orig_nbformat": 4
 },
 "nbformat": 4,
 "nbformat_minor": 2
}
