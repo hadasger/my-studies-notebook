{
 "cells": [
  {
   "cell_type": "markdown",
   "metadata": {},
   "source": [
    "# Conditionals & Control Flow"
   ]
  },
  {
   "cell_type": "markdown",
   "metadata": {},
   "source": [
    "## Comparators\n",
    "\n",
    "\n",
    "\n",
    "- Equal to (==)\n",
    "- Not equal to (!=)\n",
    "- Less than (<)\n",
    "- Less than or equal to (<=)\n",
    "- Greater than (>)\n",
    "- Greater than or equal to (>=)"
   ]
  },
  {
   "cell_type": "markdown",
   "metadata": {},
   "source": [
    "## Boolean operators\n",
    "### and, or, not\n",
    "- The boolean operator \"and\" returns \"True\" when the expressions on both sides of \"and\" are true.\n",
    "- The boolean operator \"or\" returns \"True\" when at least one expression on either side of \"or\" is true.\n",
    "- The boolean operator \"not\" returns \"True\" for false statements and \"False\" for true statements.\n",
    "###  not is evaluated first, than and, than or"
   ]
  },
  {
   "cell_type": "markdown",
   "metadata": {},
   "source": [
    "## Conditional Statement Syntax\n",
    "\"if\" is a conditional statement that executes some specified code after checking if its expression is \"True\""
   ]
  },
  {
   "cell_type": "code",
   "execution_count": 4,
   "metadata": {},
   "outputs": [
    {
     "name": "stdout",
     "output_type": "stream",
     "text": [
      "Eight is less than nine!\n"
     ]
    }
   ],
   "source": [
    "if 8<9:\n",
    "    print (\"Eight is less than nine!\")"
   ]
  },
  {
   "cell_type": "markdown",
   "metadata": {},
   "source": [
    "Pay attention to the indentation before the print statement. This space, called white space, is how Python knows we are entering a new block of code. Python accepts many different kinds of indentation to indicate blocks. "
   ]
  },
  {
   "cell_type": "markdown",
   "metadata": {},
   "source": [
    "Make sure you notice the colons at the end of the if statement."
   ]
  },
  {
   "cell_type": "markdown",
   "metadata": {},
   "source": [
    "## Else Problems\n",
    "Unlike \"if\", \"else\" doesn’t depend on an expression"
   ]
  },
  {
   "cell_type": "code",
   "execution_count": 6,
   "metadata": {},
   "outputs": [
    {
     "name": "stdout",
     "output_type": "stream",
     "text": [
      "I get printed\n"
     ]
    }
   ],
   "source": [
    "if 8>9:\n",
    "    print (\"I DONWT GET PRINTED\")\n",
    "else:\n",
    "    print (\"I get printed\")"
   ]
  },
  {
   "cell_type": "markdown",
   "metadata": {},
   "source": [
    "### Elif\n",
    "\"elif\" is short for “else if.” It means exactly what it sounds like: “otherwise, if the following expression is true, do this!”"
   ]
  },
  {
   "cell_type": "code",
   "execution_count": 7,
   "metadata": {},
   "outputs": [
    {
     "name": "stdout",
     "output_type": "stream",
     "text": [
      "I get printed!\n"
     ]
    }
   ],
   "source": [
    "if 8>9:\n",
    "    print (\"I don't get printed!\")\n",
    "elif 8<9:\n",
    "    print (\"I get printed!\")\n",
    "else:\n",
    "    print (\"I also don't get printed!\")"
   ]
  }
 ],
 "metadata": {
  "interpreter": {
   "hash": "48ed341b6f63f0053d590fe0e5e295e54b1bfed5059adeb0dc11192f2dc45088"
  },
  "kernelspec": {
   "display_name": "Python 3.9.7 ('.venv': venv)",
   "language": "python",
   "name": "python3"
  },
  "language_info": {
   "codemirror_mode": {
    "name": "ipython",
    "version": 3
   },
   "file_extension": ".py",
   "mimetype": "text/x-python",
   "name": "python",
   "nbconvert_exporter": "python",
   "pygments_lexer": "ipython3",
   "version": "3.10.4"
  },
  "orig_nbformat": 4
 },
 "nbformat": 4,
 "nbformat_minor": 2
}
