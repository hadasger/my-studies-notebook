{
 "cells": [
  {
   "cell_type": "markdown",
   "metadata": {},
   "source": [
    "## Ex1"
   ]
  },
  {
   "cell_type": "markdown",
   "metadata": {},
   "source": [
    "### Q1- \n",
    "Find all the syntax errors in the code snippet above, and explain why they are errors:\n",
    "\n",
    "myfunction(x, y):\n",
    "    return x + y\n",
    "\n",
    "else:\n",
    "    print(\"Hello!\")\n",
    "\n",
    "if mark >= 50\n",
    "    print(\"You passed!\")\n",
    "\n",
    "if arriving:\n",
    "    print(\"Hi!\")\n",
    "esle:\n",
    "    print(\"Bye!\")\n",
    "\n",
    "if flag:\n",
    "print(\"Flag is set!\")"
   ]
  },
  {
   "cell_type": "markdown",
   "metadata": {},
   "source": [
    "Answer:\n",
    "- def is missing\n",
    "- there ia no if\n",
    "- colons are missing\n",
    "- esle instead of else\n",
    "- the if is empty because the print is written without the white space..."
   ]
  },
  {
   "cell_type": "markdown",
   "metadata": {},
   "source": [
    "### Q2-\n",
    "Find potential sources of runtime errors in this code snippet:\n",
    "\n",
    "dividend = float(input(\"Please enter the dividend: \"))\n",
    "\n",
    "divisor = float(input(\"Please enter the divisor: \"))\n",
    "\n",
    "quotient = dividend / divisor\n",
    "\n",
    "quotient_rounded = math.round(quotient)"
   ]
  },
  {
   "cell_type": "markdown",
   "metadata": {},
   "source": [
    "Answer:\n",
    "- THe user enter the wrong input - a variable that is not a number\n",
    "- The user will enter zero as input to the divisor\n",
    "\n",
    "!Answer that is not mine: The math library hasn't been imported"
   ]
  },
  {
   "cell_type": "markdown",
   "metadata": {},
   "source": [
    "### Q3-\n",
    "Find potential sources of runtime errors in this code snippet:\n",
    "\n",
    "for x in range(a, b):\n",
    "\n",
    "        print(\"(%f, %f, %f)\" % my_list[x])"
   ]
  },
  {
   "cell_type": "markdown",
   "metadata": {},
   "source": [
    "Answer:\n",
    "1. a, b and my_list need to be defined before this snippet.\n",
    "2. The attempt to access the list element with index x may fail during one of the loop iterations if the range from a to b exceeds the size of my_list.\n",
    "3. The string formatting operation inside the print statement expects my_list[x] to be a tuple with three numbers. If it has too many or too few elements, or isn’t a tuple at all, the attempt to format the string will fail."
   ]
  },
  {
   "cell_type": "markdown",
   "metadata": {},
   "source": [
    "### Q4-\n",
    "Find potential sources of logic errors in this code snippet:\n",
    "\n",
    "product = 0\n",
    "\n",
    "for i in range(10):\n",
    "        \n",
    "        product *= i\n",
    "\n",
    "\n",
    "sum_squares = 0\n",
    "\n",
    "for i in range(10):\n",
    "        \n",
    "        i_sq = i**2\n",
    "\n",
    "sum_squares += i_sq\n",
    "\n",
    "\n",
    "nums = 0\n",
    "\n",
    "for num in range(10):\n",
    "        \n",
    "        num += num"
   ]
  },
  {
   "cell_type": "markdown",
   "metadata": {},
   "source": [
    "Answer:\n",
    "1. If you are accumulating a number total by multiplication, not addition, you need to initialise the total to 1, not 0, otherwise the product will always be zero!\n",
    "2. !not mine: The line which adds i_sq to sum_squares is not aligned correctly, and will only add the last value of i_sq after the loop has concluded.\n",
    "3. The wrong variable is used: at each loop iteration the current number in the range is added to itself and nums remains unchanged."
   ]
  },
  {
   "cell_type": "markdown",
   "metadata": {},
   "source": [
    "## Ex2"
   ]
  },
  {
   "cell_type": "markdown",
   "metadata": {},
   "source": [
    "### Q1-\n",
    "Extend the program in exercise 7 of the loop control statements chapter to include exception handling. Whenever the user enters input of the incorrect type, keep prompting the user for the same value until it is entered correctly. Give the user sensible feedback."
   ]
  },
  {
   "cell_type": "code",
   "execution_count": 2,
   "metadata": {},
   "outputs": [
    {
     "name": "stdout",
     "output_type": "stream",
     "text": [
      "please enter a <class 'float'> variable\n",
      "please enter a <class 'float'> variable\n"
     ]
    }
   ],
   "source": [
    "person = {}\n",
    "\n",
    "properties = [\n",
    "    (\"name\", str),\n",
    "    (\"surname\", str),\n",
    "    (\"age\", int),\n",
    "    (\"height\", float),\n",
    "    (\"weight\", float),\n",
    "]\n",
    "\n",
    "for prop, p_type in properties:\n",
    "    while True:\n",
    "        try:\n",
    "            person[prop] = p_type(input(\"Please enter your %s: \" % prop))\n",
    "            break\n",
    "        except ValueError:\n",
    "            print(f'please enter a {p_type} variable')"
   ]
  },
  {
   "cell_type": "code",
   "execution_count": 6,
   "metadata": {},
   "outputs": [
    {
     "name": "stdout",
     "output_type": "stream",
     "text": [
      "Could not convert age 'gerstein'to type int. Please try again.\n",
      "Could not convert height '52/0'to type float. Please try again.\n"
     ]
    }
   ],
   "source": [
    "#Answer\n",
    "person = {}\n",
    "\n",
    "properties = [\n",
    "    (\"name\", str),\n",
    "    (\"surname\", str),\n",
    "    (\"age\", int),\n",
    "    (\"height\", float),\n",
    "    (\"weight\", float),\n",
    "]\n",
    "\n",
    "for property, p_type in properties:\n",
    "    valid_value = None\n",
    "\n",
    "    while valid_value is None:\n",
    "        try:\n",
    "            value = input(\"Please enter your %s: \" % property)\n",
    "            valid_value = p_type(value)\n",
    "        except ValueError:\n",
    "            print(\"Could not convert %s '%s'to type %s. Please try again.\" %(property, value, p_type.__name__))\n",
    "    \n",
    "    person[property] = valid_value\n"
   ]
  },
  {
   "cell_type": "markdown",
   "metadata": {},
   "source": [
    "### Q2-\n",
    "Add a try-except statement to the body of this function which handles a possible IndexError, which could occur if the index provided exceeds the length of the list. Print an error message if this happens:"
   ]
  },
  {
   "cell_type": "code",
   "execution_count": 7,
   "metadata": {},
   "outputs": [],
   "source": [
    "def print_list_element(thelist, index):\n",
    "    try:\n",
    "        print(thelist[index])\n",
    "    except IndexError:\n",
    "        print('Index provided exceeds the length of the list. Please enter another index.')"
   ]
  },
  {
   "cell_type": "markdown",
   "metadata": {},
   "source": [
    "### Q3-\n",
    "This function adds an element to a list inside a dict of lists. Rewrite it to use a try-except statement which handles a possible KeyError if the list with the name provided doesn’t exist in the dictionary yet, instead of checking beforehand whether it does. Include else and finally clauses in your try-except block:"
   ]
  },
  {
   "cell_type": "code",
   "execution_count": 8,
   "metadata": {},
   "outputs": [],
   "source": [
    "def add_to_list_in_dict(thedict, listname, element):\n",
    "    try:\n",
    "        l = thedict[listname]  \n",
    "    except KeyError:\n",
    "        thedict[listname] = []\n",
    "        print(\"Created %s.\" % listname)\n",
    "    else:\n",
    "         print(\"%s already has %d elements.\" % (listname, len(l)))\n",
    "    finally:\n",
    "        thedict[listname].append(element)\n",
    "        print(\"Added %s to %s.\" % (element, listname))"
   ]
  },
  {
   "cell_type": "markdown",
   "metadata": {},
   "source": [
    "## Ex3"
   ]
  },
  {
   "cell_type": "markdown",
   "metadata": {},
   "source": [
    "### Q1-\n",
    "Rewrite the program from the first question of exercise 2 so that it prints the text of Python’s original exception inside the except clause instead of a custom message."
   ]
  },
  {
   "cell_type": "code",
   "execution_count": 12,
   "metadata": {},
   "outputs": [
    {
     "name": "stdout",
     "output_type": "stream",
     "text": [
      "invalid literal for int() with base 10: 'hadas'\n"
     ]
    }
   ],
   "source": [
    "person = {}\n",
    "\n",
    "properties = [\n",
    "    (\"name\", str),\n",
    "    (\"surname\", str),\n",
    "    (\"age\", int),\n",
    "    (\"height\", float),\n",
    "    (\"weight\", float),\n",
    "]\n",
    "\n",
    "for property, p_type in properties:\n",
    "    valid_value = None\n",
    "\n",
    "    while valid_value is None:\n",
    "        try:\n",
    "            value = input(\"Please enter your %s: \" % property)\n",
    "            valid_value = p_type(value)\n",
    "        except ValueError as ve:\n",
    "            print(ve)\n",
    "                        \n",
    "          \n",
    "    person[property] = valid_value"
   ]
  },
  {
   "cell_type": "markdown",
   "metadata": {},
   "source": [
    "### Q2-\n",
    "Rewrite the program from the second question of exercise 2 so that the exception which is caught in the except clause is re-raised after the error message is printed."
   ]
  },
  {
   "cell_type": "code",
   "execution_count": 13,
   "metadata": {},
   "outputs": [],
   "source": [
    "def print_list_element(thelist, index):\n",
    "    try:\n",
    "        print(thelist[index])\n",
    "    except IndexError as ie:\n",
    "        print('Index provided exceeds the length of the list. Please enter another index.')\n",
    "        raise ie"
   ]
  }
 ],
 "metadata": {
  "kernelspec": {
   "display_name": "Python 3.10.4 ('.venv': venv)",
   "language": "python",
   "name": "python3"
  },
  "language_info": {
   "codemirror_mode": {
    "name": "ipython",
    "version": 3
   },
   "file_extension": ".py",
   "mimetype": "text/x-python",
   "name": "python",
   "nbconvert_exporter": "python",
   "pygments_lexer": "ipython3",
   "version": "3.10.4"
  },
  "orig_nbformat": 4,
  "vscode": {
   "interpreter": {
    "hash": "48ed341b6f63f0053d590fe0e5e295e54b1bfed5059adeb0dc11192f2dc45088"
   }
  }
 },
 "nbformat": 4,
 "nbformat_minor": 2
}
