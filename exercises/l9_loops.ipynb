{
 "cells": [
  {
   "cell_type": "markdown",
   "metadata": {},
   "source": [
    "# EX2- Guess the number"
   ]
  },
  {
   "cell_type": "code",
   "execution_count": 2,
   "metadata": {},
   "outputs": [],
   "source": [
    "#function that tells the user if the number he gussed is the number the computer has chosen\n",
    "from random import randint\n",
    "def guess_number():\n",
    "    number = randint(1,10)\n",
    "    guess = int(input(\"Guess a number between 1 and 10: \"))\n",
    "    while guess != number:\n",
    "        if guess < number:\n",
    "            print(\"Too low\")\n",
    "        else:\n",
    "            print(\"Too high\")\n",
    "        guess = int(input(\"Guess again: \"))\n",
    "    print(\"You guessed it!\")"
   ]
  },
  {
   "cell_type": "code",
   "execution_count": 2,
   "metadata": {},
   "outputs": [],
   "source": [
    "def check_guess(num):\n",
    "    x = int(input('Enter a number from 1-100:\\n'))\n",
    "    if (x>num):\n",
    "        print ('Too big!')\n",
    "    elif (x<num):\n",
    "        print ('Too small!')\n",
    "    else:\n",
    "        print ('You won!')\n",
    "        return True\n",
    "    return False\n",
    "\n",
    "def guess_number():\n",
    "    num = rando.randint(1, 100)\n",
    "    win = False\n",
    "    while not win:\n",
    "        win = check_guess(num)"
   ]
  },
  {
   "cell_type": "markdown",
   "metadata": {},
   "source": [
    "# EX3- 7 Boom"
   ]
  },
  {
   "cell_type": "code",
   "execution_count": null,
   "metadata": {},
   "outputs": [],
   "source": [
    "# count from 1 to 50, and check if the number is divisible by 7\n",
    "def count_to_50():\n",
    "    for i in range(1,51):\n",
    "        if i%7 == 0:\n",
    "            print('boom')\n",
    "        else:\n",
    "            print(i)\n",
    "\n",
    "# function that count from 1 to 20-ask the user to enter the next number\n",
    "def count_to_20():\n",
    "    for i in range(1,22):\n",
    "        print('Enter the next number and press enter to continue')\n",
    "        user_selection = input()\n",
    "        if i%7 ==0:\n",
    "            if user_selection == 'boom':\n",
    "                pass\n",
    "            elif user_selection == i:\n",
    "                pass\n",
    "            else:\n",
    "                print ('You have entered the wrong number')\n",
    "                break"
   ]
  },
  {
   "cell_type": "code",
   "execution_count": 3,
   "metadata": {},
   "outputs": [],
   "source": [
    "# She codes- solution- function that count from 1 to 20-ask the user to enter the next number\n",
    "def valid_input(user_input):\n",
    "    if user_input == 'Boom':\n",
    "        return True\n",
    "    else:\n",
    "        return user_input.isdigit()\n",
    "\n",
    "def check_boom(user_input):\n",
    "    if user_input != 'Boom':\n",
    "        print ('GAME OVER - YOU LOSE!')\n",
    "    return\n",
    "\n",
    "def seven_boom_with_user():\n",
    "    for num in range(1,22):\n",
    "        x = input('Enter the next number or \\'Boom\\':\\n')\n",
    "        if not valid_input(x):\n",
    "            print ('GAME OVER - Invalid Input')\n",
    "            return\n",
    "        if num % 7 == 0:\n",
    "            check_boom(x)\n",
    "        elif '7' in str(num):\n",
    "            check_boom(x)\n",
    "        else:\n",
    "            if int(x) != num:\n",
    "                print ('GAME OVER - YOU LOSE!')\n",
    "                return\n",
    "    print ('GAME OVER - YOU WON!')"
   ]
  },
  {
   "cell_type": "code",
   "execution_count": 1,
   "metadata": {},
   "outputs": [],
   "source": [
    "# and now for the game against the computer\n",
    "def seven_boom():\n",
    "    for i in range(1,51):\n",
    "        if i%2 == 0:\n",
    "            print('Enter the next number and press enter to continue')\n",
    "            user_selection = input()\n",
    "            if i%7 ==0:\n",
    "                if user_selection == 'boom':\n",
    "                    pass\n",
    "                elif user_selection == i:\n",
    "                    pass\n",
    "                else:\n",
    "                    print ('You have entered the wrong number')\n",
    "                    break\n",
    "        else:\n",
    "            if i%7 == 0:\n",
    "                print('boom')\n",
    "            else:\n",
    "                print(i)"
   ]
  },
  {
   "cell_type": "code",
   "execution_count": null,
   "metadata": {},
   "outputs": [],
   "source": [
    "# She codes solution- and now for the game against the computer\n",
    "def seven_boom():\n",
    "    user_turn = True\n",
    "    for num in range (1,22):\n",
    "        if (user_turn):\n",
    "            x = input('Enter the next number or \\'Boom\\':\\n')\n",
    "            if not valid_input(x):\n",
    "                print('GAME OVER- Invalid Input')\n",
    "                return\n",
    "            if num % 7 == 0:\n",
    "                check_boom(x)\n",
    "            elif '7' in str(num):\n",
    "                check_boom(x)\n",
    "            else:\n",
    "                if int(x) != num:\n",
    "                    print('GAME OVER- YOU LOSE!')\n",
    "                    return\n",
    "        else:\n",
    "            if num % 7 == 0:\n",
    "                print ('Computer says: Boom')\n",
    "            else:\n",
    "                print ('Computer says: {0}'.format(num))\n",
    "        user_turn = not user_turn\n",
    "    print('GAME OVER - YOU WON!')"
   ]
  }
 ],
 "metadata": {
  "interpreter": {
   "hash": "48ed341b6f63f0053d590fe0e5e295e54b1bfed5059adeb0dc11192f2dc45088"
  },
  "kernelspec": {
   "display_name": "Python 3.9.7 ('.venv': venv)",
   "language": "python",
   "name": "python3"
  },
  "language_info": {
   "codemirror_mode": {
    "name": "ipython",
    "version": 3
   },
   "file_extension": ".py",
   "mimetype": "text/x-python",
   "name": "python",
   "nbconvert_exporter": "python",
   "pygments_lexer": "ipython3",
   "version": "3.9.7"
  },
  "orig_nbformat": 4
 },
 "nbformat": 4,
 "nbformat_minor": 2
}
