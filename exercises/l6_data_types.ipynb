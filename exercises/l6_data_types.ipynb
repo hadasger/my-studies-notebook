{
 "cells": [
  {
   "cell_type": "markdown",
   "metadata": {},
   "source": [
    "## Q3"
   ]
  },
  {
   "cell_type": "code",
   "execution_count": 9,
   "metadata": {},
   "outputs": [
    {
     "name": "stdout",
     "output_type": "stream",
     "text": [
      "Helo\n"
     ]
    }
   ],
   "source": [
    "given_string = 'Hello'\n",
    "new_string = ''\n",
    "if len(given_string) >= 2:\n",
    "    new_string = given_string[0:2]+given_string[-2:]\n",
    "else:\n",
    "    new_string = 'Empty String'\n",
    "\n",
    "print (new_string)\n"
   ]
  },
  {
   "cell_type": "markdown",
   "metadata": {},
   "source": [
    "## Q4"
   ]
  },
  {
   "cell_type": "code",
   "execution_count": 22,
   "metadata": {},
   "outputs": [
    {
     "name": "stdout",
     "output_type": "stream",
     "text": [
      "da$\n"
     ]
    }
   ],
   "source": [
    "def same_as_first_changed_to_dollar(given_string):\n",
    "    new_string = given_string[0]\n",
    "    given_string.lower()    \n",
    "    for i in range(1, len(given_string)):\n",
    "        if given_string[i] == given_string[0]:\n",
    "            new_string += '$'\n",
    "        else:\n",
    "            new_string += given_string[i]\n",
    "    return new_string\n",
    "\n",
    "print (same_as_first_changed_to_dollar('dad'))\n",
    "\n"
   ]
  },
  {
   "cell_type": "code",
   "execution_count": 23,
   "metadata": {},
   "outputs": [
    {
     "name": "stdout",
     "output_type": "stream",
     "text": [
      "resta$t\n"
     ]
    }
   ],
   "source": [
    "def change_char (str1):\n",
    "    char = str1[0]\n",
    "    str1 = str1.replace(char, '$')\n",
    "    str1 = char+str1[1:]\n",
    "\n",
    "    return str1\n",
    "\n",
    "print (change_char('restart'))"
   ]
  },
  {
   "cell_type": "markdown",
   "metadata": {},
   "source": [
    "## Q5"
   ]
  },
  {
   "cell_type": "code",
   "execution_count": 1,
   "metadata": {},
   "outputs": [
    {
     "name": "stdout",
     "output_type": "stream",
     "text": [
      "dbc aef\n"
     ]
    }
   ],
   "source": [
    "def new_str (str1, str2):\n",
    "    char1 = str1[0]\n",
    "    char2 = str2[0]\n",
    "    return char2+str1[1:]+' '+char1+str2[1:]\n",
    "\n",
    "print (new_str ('abc', 'def'))"
   ]
  },
  {
   "cell_type": "code",
   "execution_count": 2,
   "metadata": {},
   "outputs": [
    {
     "name": "stdout",
     "output_type": "stream",
     "text": [
      "dec abf\n"
     ]
    }
   ],
   "source": [
    "def char_mix_up (a, b):\n",
    "    nwe_a = b[:2] + a[2:]\n",
    "    nwe_b = a[:2] + b[2:]\n",
    "\n",
    "    return nwe_a + ' ' + nwe_b\n",
    "\n",
    "print (char_mix_up('abc', 'def'))"
   ]
  },
  {
   "cell_type": "markdown",
   "metadata": {},
   "source": [
    "## Q6"
   ]
  },
  {
   "cell_type": "code",
   "execution_count": 6,
   "metadata": {},
   "outputs": [
    {
     "name": "stdout",
     "output_type": "stream",
     "text": [
      "jumping\n"
     ]
    }
   ],
   "source": [
    "def add_ing (str1):\n",
    "    if len(str1) >= 3:\n",
    "        if str1[-3:] == 'ing':\n",
    "            str1 += 'ly'\n",
    "        else:\n",
    "            str1 += 'ing'\n",
    "    \n",
    "    return str1\n",
    "\n",
    "print (add_ing('jump'))\n",
    "\n",
    "    "
   ]
  },
  {
   "cell_type": "markdown",
   "metadata": {},
   "source": [
    "## Q7"
   ]
  },
  {
   "cell_type": "code",
   "execution_count": 13,
   "metadata": {},
   "outputs": [
    {
     "name": "stdout",
     "output_type": "stream",
     "text": [
      "The lyrics is good!\n"
     ]
    }
   ],
   "source": [
    "def replace_to_good (str1):\n",
    "    index_not = str1.index('not')\n",
    "    index_poor = str1.index('poor')\n",
    "    \n",
    "\n",
    "    if index_not < index_poor:\n",
    "        str1 = str1.replace (str1[index_not:index_poor+4], 'good')\n",
    "    \n",
    "    return str1\n",
    "\n",
    "\n",
    "print (replace_to_good('The lyrics is not that poor!'))"
   ]
  },
  {
   "cell_type": "code",
   "execution_count": 14,
   "metadata": {},
   "outputs": [
    {
     "name": "stdout",
     "output_type": "stream",
     "text": [
      "The lyrics is good!\n"
     ]
    }
   ],
   "source": [
    "def not_poor(str1):\n",
    "  snot = str1.find('not')\n",
    "  spoor = str1.find('poor')\n",
    "  \n",
    "\n",
    "  if spoor > snot and snot>0 and spoor>0:\n",
    "    str1 = str1.replace(str1[snot:(spoor+4)], 'good')\n",
    "    return str1\n",
    "  else:\n",
    "    return str1\n",
    "print(not_poor('The lyrics is not that poor!'))"
   ]
  },
  {
   "cell_type": "markdown",
   "metadata": {},
   "source": [
    "## Q9"
   ]
  },
  {
   "cell_type": "code",
   "execution_count": 19,
   "metadata": {},
   "outputs": [
    {
     "name": "stdout",
     "output_type": "stream",
     "text": [
      "adas\n"
     ]
    }
   ],
   "source": [
    "def remove_n (str1 , n):\n",
    "    if str1 != '':\n",
    "        str1 = str1[:n] + str1[n+1:]\n",
    "    \n",
    "    return str1\n",
    "\n",
    "print (remove_n ('Hadas', 0))\n"
   ]
  },
  {
   "cell_type": "markdown",
   "metadata": {},
   "source": [
    "## Q10"
   ]
  },
  {
   "cell_type": "code",
   "execution_count": 20,
   "metadata": {},
   "outputs": [
    {
     "name": "stdout",
     "output_type": "stream",
     "text": [
      "yybb\n"
     ]
    }
   ],
   "source": [
    "def exchange_first_last (str1):\n",
    "    char_first = str1[0]\n",
    "    char_last = str1[-1]\n",
    "    str1 = char_last + str1[1:-1] + char_first\n",
    "\n",
    "    return str1\n",
    "\n",
    "print (exchange_first_last ('byby'))\n"
   ]
  },
  {
   "cell_type": "markdown",
   "metadata": {},
   "source": [
    "## Q19"
   ]
  },
  {
   "cell_type": "code",
   "execution_count": 24,
   "metadata": {},
   "outputs": [
    {
     "name": "stdout",
     "output_type": "stream",
     "text": [
      "di\n"
     ]
    }
   ],
   "source": [
    "def last_part_before(str1, char):\n",
    "    new_str = ''\n",
    "    for i in str1:\n",
    "        if str1.index(i) < str1.index(char):\n",
    "            new_str += i\n",
    "    \n",
    "    return new_str\n",
    "\n",
    "print (last_part_before('dinner' , 'n')) \n"
   ]
  },
  {
   "cell_type": "code",
   "execution_count": 27,
   "metadata": {},
   "outputs": [
    {
     "name": "stdout",
     "output_type": "stream",
     "text": [
      "https://www.w3resource.com/python-exercises\n",
      "https://www.w3resource.com/python\n"
     ]
    }
   ],
   "source": [
    "str1 = 'https://www.w3resource.com/python-exercises/string'\n",
    "print(str1.rsplit('/', 1)[0])\n",
    "print(str1.rsplit('-', 1)[0])"
   ]
  },
  {
   "cell_type": "markdown",
   "metadata": {},
   "source": [
    "## Q20"
   ]
  },
  {
   "cell_type": "code",
   "execution_count": 30,
   "metadata": {},
   "outputs": [
    {
     "name": "stdout",
     "output_type": "stream",
     "text": [
      "dcba\n"
     ]
    }
   ],
   "source": [
    "def reversed_str (str1):\n",
    "    length = len(str1)\n",
    "    new_str = ''\n",
    "    if length % 4 == 0:\n",
    "        new_str = str1[::-1]\n",
    "    \n",
    "    return new_str\n",
    "\n",
    "print (reversed_str('abcd'))"
   ]
  },
  {
   "cell_type": "code",
   "execution_count": 31,
   "metadata": {},
   "outputs": [
    {
     "name": "stdout",
     "output_type": "stream",
     "text": [
      "dcba\n",
      "python\n"
     ]
    }
   ],
   "source": [
    "def reverse_string(str1):\n",
    "    if len(str1) % 4 == 0:\n",
    "       return ''.join(reversed(str1))\n",
    "    return str1\n",
    "\n",
    "print(reverse_string('abcd'))\n",
    "print(reverse_string('python'))"
   ]
  },
  {
   "cell_type": "markdown",
   "metadata": {},
   "source": [
    "## Q22"
   ]
  },
  {
   "cell_type": "code",
   "execution_count": 1,
   "metadata": {},
   "outputs": [
    {
     "name": "stdout",
     "output_type": "stream",
     "text": [
      "['a', 'b', 'l', 'n', 'o', 'o']\n"
     ]
    }
   ],
   "source": [
    "def sorted_str (str1):\n",
    "    str1 = sorted(str1)\n",
    "    return str1\n",
    "\n",
    "print (sorted_str ('baloon'))"
   ]
  },
  {
   "cell_type": "markdown",
   "metadata": {},
   "source": [
    "## Q23"
   ]
  },
  {
   "cell_type": "code",
   "execution_count": 2,
   "metadata": {},
   "outputs": [
    {
     "name": "stdout",
     "output_type": "stream",
     "text": [
      "Python Exercises\n",
      "\n",
      "Python Exercises\n"
     ]
    }
   ],
   "source": [
    "str1 = 'Python Exercises\\n'\n",
    "print (str1)\n",
    "print (str1.rstrip())"
   ]
  },
  {
   "cell_type": "markdown",
   "metadata": {},
   "source": [
    "## Q24"
   ]
  },
  {
   "cell_type": "code",
   "execution_count": 7,
   "metadata": {},
   "outputs": [
    {
     "name": "stdout",
     "output_type": "stream",
     "text": [
      "string does not start with:  ba\n",
      "None\n"
     ]
    }
   ],
   "source": [
    "def specific_characters (str1, chars):\n",
    "    index_chars = str1.find(chars)\n",
    "    if index_chars == 0 :\n",
    "        print ('string starts with: ', chars)\n",
    "    else:\n",
    "        print ('string does not start with: ', chars)\n",
    "\n",
    "print (specific_characters ('abc', 'ba'))"
   ]
  },
  {
   "cell_type": "code",
   "execution_count": 8,
   "metadata": {},
   "outputs": [
    {
     "name": "stdout",
     "output_type": "stream",
     "text": [
      "True\n"
     ]
    }
   ],
   "source": [
    "string = \"w3resource.com\"\n",
    "print(string.startswith(\"w3r\"))"
   ]
  },
  {
   "cell_type": "markdown",
   "metadata": {},
   "source": [
    "## Q1A"
   ]
  },
  {
   "cell_type": "code",
   "execution_count": 10,
   "metadata": {},
   "outputs": [
    {
     "name": "stdout",
     "output_type": "stream",
     "text": [
      "Helo\n"
     ]
    }
   ],
   "source": [
    "def first_middle_last (str1):\n",
    "    first = str1[0]\n",
    "    middle = str1[(len(str1)-1)//2:(len(str1)+2)//2]\n",
    "    last = str1 [-1]\n",
    "    new_str = first+middle+last\n",
    "\n",
    "    return new_str\n",
    "\n",
    "print (first_middle_last('Helo'))\n"
   ]
  },
  {
   "cell_type": "markdown",
   "metadata": {},
   "source": [
    "## Q1B"
   ]
  },
  {
   "cell_type": "code",
   "execution_count": 13,
   "metadata": {},
   "outputs": [
    {
     "name": "stdout",
     "output_type": "stream",
     "text": [
      "Son\n"
     ]
    }
   ],
   "source": [
    "str1 = 'JaSonAy'\n",
    "middle = str1[int(len(str1)/2)]\n",
    "index_middle = str1.index(middle)\n",
    "str2 = str1[index_middle-1] + str1[index_middle] + str1 [index_middle+1]\n",
    "\n",
    "print (str2)"
   ]
  },
  {
   "cell_type": "markdown",
   "metadata": {},
   "source": [
    "## Q2"
   ]
  },
  {
   "cell_type": "code",
   "execution_count": 14,
   "metadata": {},
   "outputs": [
    {
     "name": "stdout",
     "output_type": "stream",
     "text": [
      "abcd\n"
     ]
    }
   ],
   "source": [
    "def in_the_middle (s1, s2):\n",
    "    middle = int(len(s1)/2)\n",
    "    s3 = s1[:middle] + s2 + s1[middle:]\n",
    "\n",
    "    return s3\n",
    "\n",
    "print (in_the_middle('acd', 'b'))"
   ]
  },
  {
   "cell_type": "markdown",
   "metadata": {},
   "source": [
    "## Q8"
   ]
  },
  {
   "cell_type": "code",
   "execution_count": 17,
   "metadata": {},
   "outputs": [
    {
     "name": "stdout",
     "output_type": "stream",
     "text": [
      "The USA count is:  2\n"
     ]
    }
   ],
   "source": [
    "def find_usa (str1):\n",
    "    str1 = str1.lower()\n",
    "    count = str1.count('usa')\n",
    "    \n",
    "    print ('The USA count is: ', count)\n",
    "\n",
    "find_usa ('Welcome to USA. usa awesome, isn\\'t it?')"
   ]
  },
  {
   "cell_type": "markdown",
   "metadata": {},
   "source": [
    "## Q11"
   ]
  },
  {
   "cell_type": "code",
   "execution_count": 18,
   "metadata": {},
   "outputs": [
    {
     "name": "stdout",
     "output_type": "stream",
     "text": [
      "The original string is:  PYnative\n",
      "The reversed string is:  evitanYP\n"
     ]
    }
   ],
   "source": [
    "str1 = 'PYnative'\n",
    "reversed_str1 = str1[::-1]\n",
    "\n",
    "print ('The original string is: ', str1)\n",
    "print ('The reversed string is: ', reversed_str1)"
   ]
  },
  {
   "cell_type": "markdown",
   "metadata": {},
   "source": [
    "## Q12"
   ]
  },
  {
   "cell_type": "code",
   "execution_count": 19,
   "metadata": {},
   "outputs": [
    {
     "name": "stdout",
     "output_type": "stream",
     "text": [
      "Original String is: Emma is a data scientist who knows Python. Emma works at google.\n",
      "Last occurrence of Emma starts at index: 43\n"
     ]
    }
   ],
   "source": [
    "str1 = \"Emma is a data scientist who knows Python. Emma works at google.\"\n",
    "print(\"Original String is:\", str1)\n",
    "\n",
    "index = str1.rfind(\"Emma\")\n",
    "print(\"Last occurrence of Emma starts at index:\", index)"
   ]
  },
  {
   "cell_type": "markdown",
   "metadata": {},
   "source": [
    "## Q15"
   ]
  },
  {
   "cell_type": "code",
   "execution_count": 25,
   "metadata": {},
   "outputs": [
    {
     "name": "stdout",
     "output_type": "stream",
     "text": [
      "Original string is  /*Jon is @developer & musician\n",
      "New string is  Jon is developer  musician\n"
     ]
    }
   ],
   "source": [
    "import string\n",
    "\n",
    "str1 = \"/*Jon is @developer & musician\"\n",
    "print(\"Original string is \", str1)\n",
    "\n",
    "new_str = str1.translate(str.maketrans('', '', string.punctuation))\n",
    "\n",
    "print(\"New string is \", new_str)"
   ]
  },
  {
   "cell_type": "code",
   "execution_count": 26,
   "metadata": {},
   "outputs": [
    {
     "name": "stdout",
     "output_type": "stream",
     "text": [
      "Original string is  /*Jon is @developer & musician\n",
      "New string is  Jon is developer  musician\n"
     ]
    }
   ],
   "source": [
    "import re\n",
    "\n",
    "str1 = \"/*Jon is @developer & musician\"\n",
    "print(\"Original string is \", str1)\n",
    "\n",
    "# replace special symbols with ''\n",
    "res = re.sub(r'[^\\w\\s]', '', str1)\n",
    "print(\"New string is \", res)"
   ]
  },
  {
   "cell_type": "markdown",
   "metadata": {},
   "source": [
    "## EX2"
   ]
  },
  {
   "cell_type": "code",
   "execution_count": 29,
   "metadata": {},
   "outputs": [
    {
     "name": "stdout",
     "output_type": "stream",
     "text": [
      "{'a': 1, 'b': 1, 'z': 2}\n"
     ]
    }
   ],
   "source": [
    "def char_freq (str1):\n",
    "    freq = {}\n",
    "    for e in str1:\n",
    "        num_e = str1.count(e)\n",
    "        freq.update({e : num_e})\n",
    "    \n",
    "    print (freq)\n",
    "\n",
    "char_freq('abzz')"
   ]
  },
  {
   "cell_type": "code",
   "execution_count": 3,
   "metadata": {},
   "outputs": [
    {
     "name": "stdout",
     "output_type": "stream",
     "text": [
      "{'a': 1, 'b': 1, 'z': 2}\n"
     ]
    }
   ],
   "source": [
    "def char_freq1 (word):\n",
    "    freq = {}\n",
    "    for char in word:\n",
    "        if freq.get(char):\n",
    "            value = freq[char]\n",
    "            freq.update({char: value +1})\n",
    "        else:\n",
    "            freq.update ({char:1})\n",
    "    return freq\n",
    "\n",
    "print (char_freq1('abzz'))"
   ]
  }
 ],
 "metadata": {
  "interpreter": {
   "hash": "48ed341b6f63f0053d590fe0e5e295e54b1bfed5059adeb0dc11192f2dc45088"
  },
  "kernelspec": {
   "display_name": "Python 3.9.7 ('.venv': venv)",
   "language": "python",
   "name": "python3"
  },
  "language_info": {
   "codemirror_mode": {
    "name": "ipython",
    "version": 3
   },
   "file_extension": ".py",
   "mimetype": "text/x-python",
   "name": "python",
   "nbconvert_exporter": "python",
   "pygments_lexer": "ipython3",
   "version": "3.9.7"
  },
  "orig_nbformat": 4
 },
 "nbformat": 4,
 "nbformat_minor": 2
}
