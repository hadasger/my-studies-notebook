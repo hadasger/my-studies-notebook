{
 "cells": [
  {
   "cell_type": "markdown",
   "metadata": {},
   "source": [
    "## Bulls and Cowes"
   ]
  },
  {
   "cell_type": "code",
   "execution_count": 48,
   "metadata": {},
   "outputs": [
    {
     "name": "stdout",
     "output_type": "stream",
     "text": [
      "Your bulls:  2 . Your hits:  1 . Please try again!\n"
     ]
    },
    {
     "data": {
      "text/plain": [
       "False"
      ]
     },
     "execution_count": 48,
     "metadata": {},
     "output_type": "execute_result"
    }
   ],
   "source": [
    "# function that checks the bulls and hits of a guess\n",
    "\n",
    "def cows_and_bulls(real_str, guess_str):\n",
    "    bulls = 0\n",
    "    hits = 0\n",
    "    index = 0\n",
    "    for letter in guess_str:\n",
    "        if letter in real_str:\n",
    "            hits += 1\n",
    "            if letter == real_str[index]:\n",
    "                bulls += 1\n",
    "        index += 1\n",
    "\n",
    "    hits = hits-bulls\n",
    "    if bulls == 5:\n",
    "        return True\n",
    "    else:\n",
    "        print('Your bulls: ', bulls, '. Your hits: ',\n",
    "              hits, '. Please try again!')\n",
    "              \n",
    "    return False\n",
    "    \n",
    "\n",
    "\n",
    "cows_and_bulls('abcde', 'abdzr')\n"
   ]
  },
  {
   "cell_type": "code",
   "execution_count": 49,
   "metadata": {},
   "outputs": [
    {
     "name": "stdout",
     "output_type": "stream",
     "text": [
      "Enter a string generate from 5 chars\n",
      "You'r string is too short!\n",
      "You'r string is too short!\n",
      "Your bulls:  0 . Your hits:  0 . Please try again!\n",
      "You lose!\n"
     ]
    }
   ],
   "source": [
    "#function to generate random string\n",
    "import random\n",
    "import string\n",
    "\n",
    "def randstr(char = string.ascii_letters, n = 5):\n",
    "    return ''.join(random.choice(char) for _ in range(n))\n",
    "\n",
    "#function to check valid input\n",
    "def check_valid_input(input_str):\n",
    "    result = False\n",
    "    if not result:\n",
    "        if input_str == '':\n",
    "            print ('You didn\\'t enter a string, please try again.')\n",
    "        elif not input_str.isalpha:\n",
    "            print ('Please enter a string with chars only')\n",
    "        elif len(input_str) > 5:\n",
    "            print ('You\\'r string is too long!')\n",
    "        elif len(input_str) < 5:\n",
    "            print ('You\\'r string is too short!')\n",
    "        else:\n",
    "            result = True\n",
    "    \n",
    "    return result\n",
    "\n",
    "#the game\n",
    "def game_bulls_and_cows():\n",
    "    real_str = randstr()\n",
    "    is_correct = False\n",
    "    turns = 0\n",
    "    print ('Enter a string generate from 5 chars')\n",
    "    while not is_correct and (turns<3):\n",
    "        guess_str = str(input())\n",
    "        if check_valid_input(guess_str):\n",
    "            is_correct = cows_and_bulls(real_str, guess_str)\n",
    "        turns += 1\n",
    "    \n",
    "    if is_correct:\n",
    "        print('You win!')\n",
    "    else:\n",
    "        print('You lose!')\n",
    "        \n",
    "\n",
    "\n",
    "game_bulls_and_cows()        \n",
    "     \n"
   ]
  }
 ],
 "metadata": {
  "interpreter": {
   "hash": "48ed341b6f63f0053d590fe0e5e295e54b1bfed5059adeb0dc11192f2dc45088"
  },
  "kernelspec": {
   "display_name": "Python 3.9.7 ('.venv': venv)",
   "language": "python",
   "name": "python3"
  },
  "language_info": {
   "codemirror_mode": {
    "name": "ipython",
    "version": 3
   },
   "file_extension": ".py",
   "mimetype": "text/x-python",
   "name": "python",
   "nbconvert_exporter": "python",
   "pygments_lexer": "ipython3",
   "version": "3.9.7"
  },
  "orig_nbformat": 4
 },
 "nbformat": 4,
 "nbformat_minor": 2
}
