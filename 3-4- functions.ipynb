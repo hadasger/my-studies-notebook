{
 "cells": [
  {
   "cell_type": "markdown",
   "metadata": {},
   "source": [
    "# Functions\n",
    "\n",
    "- Every function is responsible for one calculation.\n",
    "- A function should have no more than 5-6 lines.\n",
    "- Make sure names are homogeneous."
   ]
  },
  {
   "cell_type": "markdown",
   "metadata": {},
   "source": [
    "## Define a function"
   ]
  },
  {
   "cell_type": "code",
   "execution_count": 1,
   "metadata": {},
   "outputs": [
    {
     "name": "stdout",
     "output_type": "stream",
     "text": [
      "Arf arf\n"
     ]
    }
   ],
   "source": [
    "def jessie():\n",
    "    print ('Arf arf')\n",
    "\n",
    "jessie()"
   ]
  },
  {
   "cell_type": "markdown",
   "metadata": {},
   "source": [
    "## Parameters/Arguments\n",
    "\n",
    "- We use \"Parameter\" when we define the function, and \"argument\" when we call the function.\n",
    "- The numbers of arguments have to be the same as the number parameters we defined at the function.\n",
    "-  In Python, there are four types of arguments allowed:\n",
    "    1. Positional arguments\n",
    "    2. Keyword arguments\n",
    "    3. Default arguments\n",
    "    4. Variable-length arguments\n"
   ]
  },
  {
   "cell_type": "code",
   "execution_count": 2,
   "metadata": {},
   "outputs": [
    {
     "name": "stdout",
     "output_type": "stream",
     "text": [
      "happy\n",
      "Arf arf\n"
     ]
    }
   ],
   "source": [
    "def jessie(mood):\n",
    "    print(mood)\n",
    "    if mood == 'happy':\n",
    "        print('Arf arf')\n",
    "    else:\n",
    "        print('*whimper*')\n",
    "\n",
    "jessie('happy')"
   ]
  },
  {
   "cell_type": "markdown",
   "metadata": {},
   "source": [
    "### Positional arguments\n",
    "\n",
    "- Positional arguments are arguments that are pass to function in proper positional order. That is, the 1st positional argument needs to be 1st when the function is called. The 2nd positional argument needs to be 2nd when the function is called, etc.\n",
    "- In the positional argument number and position of arguments must be matched. If we change the order, then the result may change. Also, If we change the number of arguments, then we will get an error."
   ]
  },
  {
   "cell_type": "markdown",
   "metadata": {},
   "source": [
    "### Keyword Arguments\n",
    "\n",
    "- A keyword argument is an argument value, passed to function preceded by the variable name and an equals sign.\n",
    "- In keyword arguments order of argument is not matter, but the number of arguments must match. Otherwise, we will get an error."
   ]
  },
  {
   "cell_type": "code",
   "execution_count": 4,
   "metadata": {},
   "outputs": [
    {
     "name": "stdout",
     "output_type": "stream",
     "text": [
      "Hello john Wilson\n",
      "Hello john Wilson\n"
     ]
    }
   ],
   "source": [
    "def message(name, surname):\n",
    "    print(\"Hello\", name, surname)\n",
    "message(name=\"john\", surname=\"Wilson\")\n",
    "message(surname=\"Wilson\", name=\"john\")"
   ]
  },
  {
   "cell_type": "markdown",
   "metadata": {},
   "source": [
    "While using keyword and positional argument simultaneously, we need to pass 1st arguments as positional arguments and then keyword arguments. Otherwise, we will get SyntaxError."
   ]
  },
  {
   "cell_type": "markdown",
   "metadata": {},
   "source": [
    "### Defult parameters\n",
    "\n",
    "Default arguments take the default value during the function call if we do not pass them. We can assign a default value to an argument in function definition using the = assignment operator."
   ]
  },
  {
   "cell_type": "code",
   "execution_count": 3,
   "metadata": {},
   "outputs": [
    {
     "name": "stdout",
     "output_type": "stream",
     "text": [
      "happy\n",
      "Arf arf\n",
      "sad\n",
      "*whimper*\n"
     ]
    }
   ],
   "source": [
    "def jessie(mood='happy'):\n",
    "    print(mood)\n",
    "    if mood == 'happy':\n",
    "        print('Arf arf')\n",
    "    else:\n",
    "        print('*whimper*')\n",
    "\n",
    "jessie()\n",
    "jessie('sad')"
   ]
  },
  {
   "cell_type": "markdown",
   "metadata": {},
   "source": [
    "### Variable-length Arguments\n",
    "\n",
    "- In Python, sometimes, there is a situation where we need to pass multiple numbers of arguments to the function. Such types of arguments are called variable-length arguments. We can declare a variable-length argument with the * (asterisk) symbol.\n",
    "- We can pass any number of arguments to this function. Internally all these values are represented in the form of a tuple."
   ]
  },
  {
   "cell_type": "code",
   "execution_count": 5,
   "metadata": {},
   "outputs": [
    {
     "name": "stdout",
     "output_type": "stream",
     "text": [
      "sum is: 0\n",
      "sum is: 26\n",
      "sum is: 87.5\n"
     ]
    }
   ],
   "source": [
    "def addition(*numbers):\n",
    "    total = 0\n",
    "    for number in numbers:\n",
    "        total += number\n",
    "    print(\"sum is:\", total)\n",
    "\n",
    "addition()\n",
    "addition(10, 5, 2, 5, 4)\n",
    "addition(78, 7, 2.5)"
   ]
  },
  {
   "cell_type": "markdown",
   "metadata": {},
   "source": [
    "## Recursive Function\n",
    "\n",
    "- A recursive function is a function that calls itself, again and again.\n",
    "- Consider, calculating the factorial of a number is a repetitive activity, in that case, we can call a function again and again, which calculates factorial."
   ]
  },
  {
   "cell_type": "code",
   "execution_count": 6,
   "metadata": {},
   "outputs": [
    {
     "name": "stdout",
     "output_type": "stream",
     "text": [
      "factorial of numbers is: 40320\n"
     ]
    }
   ],
   "source": [
    "def factorial(no):\n",
    "    if no==0:\n",
    "        return 1\n",
    "    else:\n",
    "        return no*factorial(no-1)\n",
    "\n",
    "print(\"factorial of numbers is:\", factorial(8))"
   ]
  },
  {
   "cell_type": "markdown",
   "metadata": {},
   "source": [
    "## Return values\n",
    "\n",
    "In order to return data, we have to use \"return\". Pay attention to the difference between \"return\" and \"print\"."
   ]
  },
  {
   "cell_type": "markdown",
   "metadata": {},
   "source": [
    "## lambda - anonymous functions"
   ]
  },
  {
   "cell_type": "code",
   "execution_count": 1,
   "metadata": {},
   "outputs": [
    {
     "name": "stdout",
     "output_type": "stream",
     "text": [
      "25\n"
     ]
    }
   ],
   "source": [
    "f = lambda a : a*a\n",
    "result = f(5)\n",
    "print(result)"
   ]
  },
  {
   "cell_type": "markdown",
   "metadata": {},
   "source": [
    "## global"
   ]
  },
  {
   "cell_type": "code",
   "execution_count": 2,
   "metadata": {},
   "outputs": [
    {
     "name": "stdout",
     "output_type": "stream",
     "text": [
      "The name inside the function is:  Bob\n",
      "The name outside the function is:  Bob\n"
     ]
    }
   ],
   "source": [
    "my_name = \"John\"\n",
    "\n",
    "def print_name():\n",
    "    global my_name\n",
    "    my_name = \"Bob\"\n",
    "    print(\"The name inside the function is: \", my_name)\n",
    "\n",
    "print_name()\n",
    "print(\"The name outside the function is: \", my_name)\n"
   ]
  }
 ],
 "metadata": {
  "interpreter": {
   "hash": "48ed341b6f63f0053d590fe0e5e295e54b1bfed5059adeb0dc11192f2dc45088"
  },
  "kernelspec": {
   "display_name": "Python 3.9.7 ('.venv': venv)",
   "language": "python",
   "name": "python3"
  },
  "language_info": {
   "codemirror_mode": {
    "name": "ipython",
    "version": 3
   },
   "file_extension": ".py",
   "mimetype": "text/x-python",
   "name": "python",
   "nbconvert_exporter": "python",
   "pygments_lexer": "ipython3",
   "version": "3.10.4"
  },
  "orig_nbformat": 4
 },
 "nbformat": 4,
 "nbformat_minor": 2
}
