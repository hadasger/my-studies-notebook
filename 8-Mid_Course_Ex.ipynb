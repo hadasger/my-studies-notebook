{
 "cells": [
  {
   "cell_type": "code",
   "execution_count": 2,
   "metadata": {},
   "outputs": [
    {
     "name": "stdout",
     "output_type": "stream",
     "text": [
      "{'a': 'n', 'b': 'o', 'c': 'p', 'd': 'q', 'e': 'r', 'f': 's', 'g': 't', 'h': 'u', 'i': 'v', 'j': 'w', 'k': 'x', 'l': 'y', 'm': 'z', 'n': 'a', 'o': 'b', 'p': 'c', 'q': 'd', 'r': 'e', 's': 'f', 't': 'g', 'u': 'h', 'v': 'i', 'w': 'j', 'x': 'k', 'y': 'l', 'z': 'm', 'A': 'N', 'B': 'O', 'C': 'P', 'D': 'Q', 'E': 'R', 'F': 'S', 'G': 'T', 'H': 'U', 'I': 'V', 'J': 'W', 'K': 'X', 'L': 'Y', 'M': 'Z', 'N': 'A', 'O': 'B', 'P': 'C', 'Q': 'D', 'R': 'E', 'S': 'F', 'T': 'G', 'U': 'H', 'V': 'I', 'W': 'J', 'X': 'K', 'Y': 'L', 'Z': 'M'}\n"
     ]
    }
   ],
   "source": [
    "#a dictionary of ROT-13\n",
    "l1_keys  = ['a','b','c','d','e','f','g','h','i','j','k','l','m','n','o','p','q','r','s','t','u','v','w','x','y','z']\n",
    "l1_values = ['n','o','p','q','r','s','t','u','v','w','x','y','z','a','b','c','d','e','f','g','h','i','j','k','l','m']\n",
    "dict_rot13 = dict(zip(l1_keys, l1_values))\n",
    "\n",
    "l2_keys = ['A','B','C','D','E','F','G','H','I','J','K','L','M','N','O','P','Q','R','S','T','U','V','W','X','Y','Z']\n",
    "l2_values = ['N','O','P','Q','R','S','T','U','V','W','X','Y','Z','A','B','C','D','E','F','G','H','I','J','K','L','M']\n",
    "dict_rot13.update(dict(zip(l2_keys, l2_values)))\n",
    "\n",
    "print (dict_rot13)"
   ]
  },
  {
   "cell_type": "code",
   "execution_count": 3,
   "metadata": {},
   "outputs": [
    {
     "name": "stdout",
     "output_type": "stream",
     "text": [
      "Q\n"
     ]
    }
   ],
   "source": [
    "#a function to replace one character with another\n",
    "def encode_decode_letter (char, dict_rot13):\n",
    "    if char.isalpha():\n",
    "        return dict_rot13[char]\n",
    "    return char\n",
    "\n",
    "print (encode_decode_letter('D', dict_rot13))"
   ]
  },
  {
   "cell_type": "code",
   "execution_count": 17,
   "metadata": {},
   "outputs": [
    {
     "name": "stdout",
     "output_type": "stream",
     "text": [
      "Uryyb!\n"
     ]
    }
   ],
   "source": [
    "#encode a string. string length is 1-8 characters\n",
    "def encode (string, dict_rot13):\n",
    "    if (len(string) >= 1) and (len(string) <= 8):\n",
    "        encoded_string = ''\n",
    "        for char in string:\n",
    "            encoded_string += encode_decode_letter(char, dict_rot13)\n",
    "        return encoded_string\n",
    "    else:\n",
    "        return 'Invalid input'\n",
    "\n",
    "print (encode('Hello!', dict_rot13))\n"
   ]
  },
  {
   "cell_type": "code",
   "execution_count": 18,
   "metadata": {},
   "outputs": [
    {
     "name": "stdout",
     "output_type": "stream",
     "text": [
      "I AM LEARNING PYTHON WITH SHE CODES ACADEMY!\n"
     ]
    }
   ],
   "source": [
    "#decode a string\n",
    "def decode (string, dict_rot13):\n",
    "    decode_string = ''\n",
    "    for char in string:\n",
    "        decode_string += encode_decode_letter(char, dict_rot13)\n",
    "    return decode_string\n",
    "\n",
    "print (decode('V NZ YRNEAVAT CLGUBA JVGU FUR PBQRF NPNQRZL!', dict_rot13))"
   ]
  }
 ],
 "metadata": {
  "interpreter": {
   "hash": "48ed341b6f63f0053d590fe0e5e295e54b1bfed5059adeb0dc11192f2dc45088"
  },
  "kernelspec": {
   "display_name": "Python 3.9.7 ('.venv': venv)",
   "language": "python",
   "name": "python3"
  },
  "language_info": {
   "codemirror_mode": {
    "name": "ipython",
    "version": 3
   },
   "file_extension": ".py",
   "mimetype": "text/x-python",
   "name": "python",
   "nbconvert_exporter": "python",
   "pygments_lexer": "ipython3",
   "version": "3.10.4"
  },
  "orig_nbformat": 4
 },
 "nbformat": 4,
 "nbformat_minor": 2
}
