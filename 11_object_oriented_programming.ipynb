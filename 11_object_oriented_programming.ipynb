{
 "cells": [
  {
   "cell_type": "markdown",
   "metadata": {},
   "source": [
    "# Object Oriented Programming"
   ]
  },
  {
   "cell_type": "markdown",
   "metadata": {},
   "source": [
    "- Programs are a set of instructions for manipulating data in a meaningful way:\n",
    "INPUT DATA => MANIPULATE DATA => RETURN DATA\n",
    "- OOP- A very common programming paradigm (style of designing software). Makes developing large software projects easier and more intuitive. Allows us to think of complex software in terms of real-world object and their relationship to one another.\n",
    "- Object is an entity or \"thing\" in your program, often a noun."
   ]
  },
  {
   "cell_type": "markdown",
   "metadata": {},
   "source": [
    "each object will have three (3) ID parameters: ID, TYPE, VALUE. For example: a=2 => ID: 140224650099024; TYPE: class 'int'; VALUE: 2:"
   ]
  },
  {
   "cell_type": "code",
   "execution_count": 4,
   "metadata": {},
   "outputs": [
    {
     "name": "stdout",
     "output_type": "stream",
     "text": [
      "140224650099024\n",
      "<class 'int'>\n",
      "2\n",
      "140224650099024\n",
      "<class 'int'>\n",
      "2\n"
     ]
    }
   ],
   "source": [
    "a = 2\n",
    "print (id(a))\n",
    "print(type(a))\n",
    "print(a)\n",
    "\n",
    "# The computer will locate the object that already exist and give it another \"lable\". The \"ID\" will remain the same\n",
    "b = 2\n",
    "print (id(b))\n",
    "print(type(b))\n",
    "print(b)"
   ]
  },
  {
   "cell_type": "markdown",
   "metadata": {},
   "source": [
    "in the example above, \"a\" is a name with a binding to the integer object 2; and \"b\" is a name with a binding to the integer object 3."
   ]
  },
  {
   "cell_type": "code",
   "execution_count": 5,
   "metadata": {},
   "outputs": [
    {
     "name": "stdout",
     "output_type": "stream",
     "text": [
      "140224650099024\n",
      "<class 'int'>\n",
      "2\n",
      "140224650099056\n",
      "<class 'int'>\n",
      "3\n"
     ]
    }
   ],
   "source": [
    "x = 2\n",
    "print(id(x))\n",
    "print(type(x))\n",
    "print(x)\n",
    "\n",
    "x = 3\n",
    "print(id(x))\n",
    "print(type(x))\n",
    "print(x)\n"
   ]
  },
  {
   "cell_type": "markdown",
   "metadata": {},
   "source": [
    "## Classes and Objects\n",
    "- In OOP, the blueprint is known as a CLASS.\n",
    "- You can think of a class as factory for creating objects.\n",
    "- An object in the real world needs only three things to describe it: its name, what it is like and what it does.\n",
    "- Class (or an object blueprint) is made up of three sections and these three sections are used to describe the object which will be created from the class: Class name; Attributes (essential features/characteristic of the future object)`. Methods (things that the future object can do or that we want the future object to do)."
   ]
  },
  {
   "cell_type": "markdown",
   "metadata": {},
   "source": [
    "## An example of creating a class- Class & Instance variables\n",
    "- The first function we call in the class is \"init\" = \"initialise function\" = \"the contractor function\", where we define our atributes or operators.\n",
    "- \"self\" will be always our first parameter in any method in the class. Afterwards outside the class we won't actually put anything to it.\n",
    "- We access the atributes with using a period. \n",
    "- If we know some properties of the object will change we will include them in the instance variable and not in the class variable.\n",
    "- We can change the class variable outside the class."
   ]
  },
  {
   "cell_type": "code",
   "execution_count": 7,
   "metadata": {},
   "outputs": [
    {
     "name": "stdout",
     "output_type": "stream",
     "text": [
      "Name is: Hoth\n",
      "Radius is: 200000\n",
      "the gravity is: 5.5\n",
      "Hoth is orbiting in the Hoth System\n"
     ]
    }
   ],
   "source": [
    "class Planet:\n",
    "    def __init__(self):\n",
    "        self.name = 'Hoth'\n",
    "        self.radius = 200000\n",
    "        self.gravity = 5.5\n",
    "        self.system = 'Hoth System'\n",
    "\n",
    "    def orbit(self):\n",
    "        return f'{self.name} is orbiting in the {self.system}'\n",
    "\n",
    "hoth = Planet()\n",
    "print(f'Name is: {hoth.name}')\n",
    "print(f'Radius is: {hoth.radius}')\n",
    "print(f'the gravity is: {hoth.gravity}')\n",
    "print(hoth.orbit())"
   ]
  },
  {
   "cell_type": "code",
   "execution_count": 16,
   "metadata": {},
   "outputs": [
    {
     "name": "stdout",
     "output_type": "stream",
     "text": [
      "Cape Cod Cancun\n",
      "cool hot\n",
      "['water', 'sand']\n",
      "['water', 'sand', 'rock']\n"
     ]
    }
   ],
   "source": [
    "class Beach:\n",
    "    # parts = ('water', 'sand') #class variable\n",
    "    def __init__(self, location, water_color, temperature):\n",
    "        self.location = location #instance variable\n",
    "        self.water_color = water_color\n",
    "        self.temperature = temperature\n",
    "        self.heat_rating = 'hot' if temperature > 80 else 'cool'\n",
    "        self.parts = ['water', 'sand']\n",
    "\n",
    "    def add_part(self, part):\n",
    "        self.parts.append(part)\n",
    "\n",
    "cape_cod_beach = Beach('Cape Cod', 'dark blue', 70)\n",
    "cancun_beach = Beach('Cancun', 'crystal blue', 90)\n",
    "print(cape_cod_beach.location, cancun_beach.location)\n",
    "print(cape_cod_beach.heat_rating, cancun_beach.heat_rating)\n",
    "print(cape_cod_beach.parts)\n",
    "cape_cod_beach.add_part('rock')\n",
    "print(cape_cod_beach.parts)"
   ]
  },
  {
   "cell_type": "markdown",
   "metadata": {},
   "source": [
    "## Methods in Class"
   ]
  },
  {
   "cell_type": "markdown",
   "metadata": {},
   "source": [
    "### Regular methods\n",
    "Takes the instances as the first arguments calls self\n"
   ]
  },
  {
   "cell_type": "markdown",
   "metadata": {},
   "source": [
    "### Class methods\n",
    "- Takes the class as the first argument calls cls.\n",
    "- We can call the class method through an instance of the class and it still will affect the all class.\n",
    "- When we call a class method we will write the name of the class before the period instead of the instance."
   ]
  },
  {
   "cell_type": "code",
   "execution_count": 1,
   "metadata": {},
   "outputs": [],
   "source": [
    "@classmethod\n",
    "def set_raise_amt(cls, amount):\n",
    "    cls.raise_amt = amount\n",
    "\n"
   ]
  },
  {
   "cell_type": "markdown",
   "metadata": {},
   "source": [
    "### Static methods\n",
    " behave just like regular functions and don't take any automatic first argument."
   ]
  },
  {
   "cell_type": "code",
   "execution_count": 2,
   "metadata": {},
   "outputs": [],
   "source": [
    "@staticmethod\n",
    "def is_workday(day):\n",
    "    if day.weekday() == 5 or day.weekday() == 6:\n",
    "        return False\n",
    "    return True"
   ]
  },
  {
   "cell_type": "markdown",
   "metadata": {},
   "source": [
    "### Special methods\n",
    "- Most of the methods will be written with \"__\" = donedane.\n",
    "- Example of these method is the \"__init__\" method"
   ]
  },
  {
   "cell_type": "markdown",
   "metadata": {},
   "source": [
    "#### repr method\n",
    "used to debug"
   ]
  },
  {
   "cell_type": "code",
   "execution_count": 3,
   "metadata": {},
   "outputs": [],
   "source": [
    "def __repr__(self):\n",
    "    pass"
   ]
  },
  {
   "cell_type": "markdown",
   "metadata": {},
   "source": [
    "#### str method\n",
    "used to explain the inner user"
   ]
  },
  {
   "cell_type": "code",
   "execution_count": 4,
   "metadata": {},
   "outputs": [],
   "source": [
    "def __str__(self):\n",
    "    pass"
   ]
  },
  {
   "cell_type": "markdown",
   "metadata": {},
   "source": [
    "#### Another methods\n",
    "- __add__ method instead of \"+\"\n",
    "- __len__ method instead of \"len\""
   ]
  },
  {
   "cell_type": "markdown",
   "metadata": {},
   "source": [
    "## Inheritance\n",
    "- Classes can inherit from one another, The child class will inherit all the member variables and functions of the parent class.\n",
    "- The child class can overwrite functions from the parent class, or use them as is!"
   ]
  },
  {
   "cell_type": "code",
   "execution_count": 12,
   "metadata": {},
   "outputs": [
    {
     "name": "stdout",
     "output_type": "stream",
     "text": [
      "Sammy 2 10\n",
      "True\n"
     ]
    }
   ],
   "source": [
    "class Dog:\n",
    "    def __init__(self, name, age, friendliness):\n",
    "        self.name = name\n",
    "        self.age = age\n",
    "        self.friendliness = friendliness\n",
    "    \n",
    "    def likes_walks(self):\n",
    "        return True\n",
    "    \n",
    "    def bark(self):\n",
    "        return 'Woof!'\n",
    "\n",
    "class Samoyed(Dog):\n",
    "    def __init__(self, name, age, friendliness):\n",
    "        super().__init__(name, age, friendliness)\n",
    "    \n",
    "    def bark(self):\n",
    "        return 'Arf arf!'\n",
    "\n",
    "class Poodle(Dog):\n",
    "    def __init__(self, name, age, friendliness):\n",
    "        super().__init__(name, age, friendliness)\n",
    "    \n",
    "    def shedding_amount(self):\n",
    "        return 0\n",
    "\n",
    "class GoldenRetriver(Dog):\n",
    "    def __init__(self, name, age, friendliness):\n",
    "        super().__init__(name, age, friendliness)\n",
    "    \n",
    "    def fetch_ability(self):\n",
    "        if self.age < 2:\n",
    "            return 8\n",
    "        elif self.age < 10:\n",
    "            return 10\n",
    "        else:\n",
    "            return 7\n",
    "\n",
    "sammy = Samoyed('Sammy', 2, 10)\n",
    "print(sammy.name, sammy.age, sammy.friendliness)\n",
    "print(sammy.likes_walks())\n"
   ]
  },
  {
   "cell_type": "markdown",
   "metadata": {},
   "source": [
    "## Multiple inheritance"
   ]
  },
  {
   "cell_type": "code",
   "execution_count": 15,
   "metadata": {},
   "outputs": [
    {
     "name": "stdout",
     "output_type": "stream",
     "text": [
      "0\n",
      "8\n"
     ]
    }
   ],
   "source": [
    "class GoldenDoodle(Poodle, GoldenRetriver):\n",
    "    def __init__(self, name, age, friendliness):\n",
    "        super().__init__(name, age, friendliness)\n",
    "    \n",
    "    def bark(self):\n",
    "        return 'AROOOO!'\n",
    "\n",
    "goldie = GoldenDoodle('Goldie', 1, 10)\n",
    "print(goldie.shedding_amount())\n",
    "print(goldie.fetch_ability())"
   ]
  },
  {
   "cell_type": "markdown",
   "metadata": {},
   "source": [
    "## Polymorphism\n",
    "The ability to take multiple forms from an object-oriented standpoint this actually means that a child class that inherits a function from maybe the parent class can override that function and give that function a completely new set of rules to follow.\n",
    "- See above the bark method"
   ]
  },
  {
   "cell_type": "code",
   "execution_count": 16,
   "metadata": {},
   "outputs": [
    {
     "name": "stdout",
     "output_type": "stream",
     "text": [
      "AROOOO!\n",
      "Arf arf!\n",
      "Woof!\n"
     ]
    }
   ],
   "source": [
    "generic_doggo = Dog('Gene', 10, 10)\n",
    "print(goldie.bark())\n",
    "print(sammy.bark())\n",
    "print(generic_doggo.bark())"
   ]
  },
  {
   "cell_type": "markdown",
   "metadata": {},
   "source": [
    "- isinstance function - return either True or False if the first argument is an instance of the second argument\n",
    "- issubclass function - return either True or False if the first class we take as an argument is a subclass of the second argument"
   ]
  },
  {
   "cell_type": "markdown",
   "metadata": {},
   "source": [
    "### Note!\n",
    "Starting an attribute or method name with an underscore (_) is a convention which we use to indicate that it is a “private” internal property and should not be accessed directly. In a more realistic example, our cached value would sometimes expire and need to be recalculated – so we should always use the age method to make sure that we get the right value."
   ]
  },
  {
   "cell_type": "markdown",
   "metadata": {},
   "source": [
    "## Composition\n",
    "Composition is a way of aggregating objects together by making some objects attributes of other objects. We saw in the previous chapter how we can make a datetime.date object an attribute of our Person object, and use it to store a person’s birthdate. We can say that a person has a birthdate – if we can express a relationship between two classes using the phrase has-a, it is a composition relationship.\n",
    "\n",
    "Relationships like this can be one-to-one, one-to-many or many-to-many, and they can be unidirectional or bidirectional, depending on the specifics of the the roles which the objects fulfil.\n",
    "\n",
    "According to some formal definitions the term composition implies that the two objects are quite strongly linked – one object can be thought of as belonging exclusively to the other object. If the owner object ceases to exist, the owned object will probably cease to exist as well. If the link between two objects is weaker, and neither object has exclusive ownership of the other, it can also be called aggregation.\n",
    "\n",
    "Here are four classes which show several examples of aggregation and composition:"
   ]
  },
  {
   "cell_type": "code",
   "execution_count": 1,
   "metadata": {},
   "outputs": [
    {
     "ename": "TypeError",
     "evalue": "add_course() missing 2 required positional arguments: 'course_code' and 'credits'",
     "output_type": "error",
     "traceback": [
      "\u001b[0;31m---------------------------------------------------------------------------\u001b[0m",
      "\u001b[0;31mTypeError\u001b[0m                                 Traceback (most recent call last)",
      "\u001b[1;32m/home/lior/programming/hadas/python/pre_intro/11_object_oriented_programming.ipynb Cell 14'\u001b[0m in \u001b[0;36m<module>\u001b[0;34m\u001b[0m\n\u001b[1;32m     <a href='vscode-notebook-cell:/home/lior/programming/hadas/python/pre_intro/11_object_oriented_programming.ipynb#ch0000013?line=44'>45</a>\u001b[0m         \u001b[39mself\u001b[39m\u001b[39m.\u001b[39mstudents\u001b[39m.\u001b[39mappend(student)\n\u001b[1;32m     <a href='vscode-notebook-cell:/home/lior/programming/hadas/python/pre_intro/11_object_oriented_programming.ipynb#ch0000013?line=47'>48</a>\u001b[0m maths_dept \u001b[39m=\u001b[39m Department(\u001b[39m\"\u001b[39m\u001b[39mMathematics and Applied Mathematics\u001b[39m\u001b[39m\"\u001b[39m, \u001b[39m\"\u001b[39m\u001b[39mMAM\u001b[39m\u001b[39m\"\u001b[39m)\n\u001b[0;32m---> <a href='vscode-notebook-cell:/home/lior/programming/hadas/python/pre_intro/11_object_oriented_programming.ipynb#ch0000013?line=48'>49</a>\u001b[0m mam1000w \u001b[39m=\u001b[39m maths_dept\u001b[39m.\u001b[39;49madd_course(\u001b[39m\"\u001b[39;49m\u001b[39mMathematics 1000\u001b[39;49m\u001b[39m\"\u001b[39;49m, \u001b[39m\"\u001b[39;49m\u001b[39mMAM1000W\u001b[39;49m\u001b[39m\"\u001b[39;49m, \u001b[39m1\u001b[39;49m)\n\u001b[1;32m     <a href='vscode-notebook-cell:/home/lior/programming/hadas/python/pre_intro/11_object_oriented_programming.ipynb#ch0000013?line=49'>50</a>\u001b[0m mam1000w_2013 \u001b[39m=\u001b[39m mam1000w\u001b[39m.\u001b[39madd_running(\u001b[39m2013\u001b[39m)\n\u001b[1;32m     <a href='vscode-notebook-cell:/home/lior/programming/hadas/python/pre_intro/11_object_oriented_programming.ipynb#ch0000013?line=51'>52</a>\u001b[0m bob \u001b[39m=\u001b[39m Student(\u001b[39m\"\u001b[39m\u001b[39mBob\u001b[39m\u001b[39m\"\u001b[39m, \u001b[39m\"\u001b[39m\u001b[39mSmith\u001b[39m\u001b[39m\"\u001b[39m)\n",
      "\u001b[1;32m/home/lior/programming/hadas/python/pre_intro/11_object_oriented_programming.ipynb Cell 14'\u001b[0m in \u001b[0;36mDepartment.add_course\u001b[0;34m(self, description, course_code, credits)\u001b[0m\n\u001b[1;32m     <a href='vscode-notebook-cell:/home/lior/programming/hadas/python/pre_intro/11_object_oriented_programming.ipynb#ch0000013?line=17'>18</a>\u001b[0m \u001b[39mdef\u001b[39;00m \u001b[39madd_course\u001b[39m(\u001b[39mself\u001b[39m, description, course_code, credits):\n\u001b[0;32m---> <a href='vscode-notebook-cell:/home/lior/programming/hadas/python/pre_intro/11_object_oriented_programming.ipynb#ch0000013?line=18'>19</a>\u001b[0m     \u001b[39mself\u001b[39m\u001b[39m.\u001b[39mcourses[course_code] \u001b[39m=\u001b[39m Course(description, course_code, credits, \u001b[39mself\u001b[39;49m)\n\u001b[1;32m     <a href='vscode-notebook-cell:/home/lior/programming/hadas/python/pre_intro/11_object_oriented_programming.ipynb#ch0000013?line=19'>20</a>\u001b[0m     \u001b[39mreturn\u001b[39;00m \u001b[39mself\u001b[39m\u001b[39m.\u001b[39mcourses[course_code]\n",
      "\u001b[1;32m/home/lior/programming/hadas/python/pre_intro/11_object_oriented_programming.ipynb Cell 14'\u001b[0m in \u001b[0;36mCourse.__init__\u001b[0;34m(self, description, course_code, credits, department)\u001b[0m\n\u001b[1;32m     <a href='vscode-notebook-cell:/home/lior/programming/hadas/python/pre_intro/11_object_oriented_programming.ipynb#ch0000013?line=26'>27</a>\u001b[0m \u001b[39mself\u001b[39m\u001b[39m.\u001b[39mcredits \u001b[39m=\u001b[39m credits\n\u001b[1;32m     <a href='vscode-notebook-cell:/home/lior/programming/hadas/python/pre_intro/11_object_oriented_programming.ipynb#ch0000013?line=27'>28</a>\u001b[0m \u001b[39mself\u001b[39m\u001b[39m.\u001b[39mdepartment \u001b[39m=\u001b[39m department\n\u001b[0;32m---> <a href='vscode-notebook-cell:/home/lior/programming/hadas/python/pre_intro/11_object_oriented_programming.ipynb#ch0000013?line=28'>29</a>\u001b[0m \u001b[39mself\u001b[39;49m\u001b[39m.\u001b[39;49mdepartment\u001b[39m.\u001b[39;49madd_course(\u001b[39mself\u001b[39;49m)\n\u001b[1;32m     <a href='vscode-notebook-cell:/home/lior/programming/hadas/python/pre_intro/11_object_oriented_programming.ipynb#ch0000013?line=30'>31</a>\u001b[0m \u001b[39mself\u001b[39m\u001b[39m.\u001b[39mrunnings \u001b[39m=\u001b[39m []\n",
      "\u001b[0;31mTypeError\u001b[0m: add_course() missing 2 required positional arguments: 'course_code' and 'credits'"
     ]
    }
   ],
   "source": [
    "class Student:\n",
    "    def __init__(self, name, student_number):\n",
    "        self.name = name\n",
    "        self.student_number = student_number\n",
    "        self.classes = []\n",
    "\n",
    "    def enrol(self, course_running):\n",
    "        self.classes.append(course_running)\n",
    "        course_running.add_student(self)\n",
    "\n",
    "\n",
    "class Department:\n",
    "    def __init__(self, name, department_code):\n",
    "        self.name = name\n",
    "        self.department_code = department_code\n",
    "        self.courses = {}\n",
    "\n",
    "    def add_course(self, description, course_code, credits):\n",
    "        self.courses[course_code] = Course(description, course_code, credits, self)\n",
    "        return self.courses[course_code]\n",
    "\n",
    "\n",
    "class Course:\n",
    "    def __init__(self, description, course_code, credits, department):\n",
    "        self.description = description\n",
    "        self.course_code = course_code\n",
    "        self.credits = credits\n",
    "        self.department = department\n",
    "        self.department.add_course(self)\n",
    "\n",
    "        self.runnings = []\n",
    "\n",
    "    def add_running(self, year):\n",
    "        self.runnings.append(CourseRunning(self, year))\n",
    "        return self.runnings[-1]\n",
    "\n",
    "\n",
    "class CourseRunning:\n",
    "    def __init__(self, course, year):\n",
    "        self.course = course\n",
    "        self.year = year\n",
    "        self.students = []\n",
    "\n",
    "    def add_student(self, student):\n",
    "        self.students.append(student)\n",
    "\n",
    "\n",
    "maths_dept = Department(\"Mathematics and Applied Mathematics\", \"MAM\")\n",
    "mam1000w = maths_dept.add_course(\"Mathematics 1000\", \"MAM1000W\", 1)\n",
    "mam1000w_2013 = mam1000w.add_running(2013)\n",
    "\n",
    "bob = Student(\"Bob\", \"Smith\")\n",
    "bob.enrol(mam1000w_2013)"
   ]
  },
  {
   "cell_type": "markdown",
   "metadata": {},
   "source": [
    "Why are there two classes which both describe a course? This is an example of the way that translation of real-life concepts into objects in your code may not always be as straightforward as it appears. Would it have made sense to have a single course object which has both description, code and department attributes and a list of students?\n",
    "\n",
    "There are two distinct concepts, both of which can be called a “course”, that we need to represent: one is the theoretical idea of a course, which is offered by a department every year and always has the same name and code, and the other is the course as it is run in a particular year, each time with a different group of enrolled students. We have represented these two concepts by two separate classes which are linked to each other. Course is the theoretical description of a course, and CourseRunning is the concrete instance of a course.\n",
    "\n",
    "We have defined several relationships between these classes:\n",
    "\n",
    "- A student can be enrolled in several courses (CourseRunning objects), and a course (CourseRunning) can have multiple students enrolled in it in a particular year, so this is a many-to-many relationship. A student knows about all his or her courses, and a course has a record of all enrolled students, so this is a bidirectional relationship. These objects aren’t very strongly coupled – a student can exist independently of a course, and a course can exist independently of a student.\n",
    "- A department offers multiple courses (Course objects), but in our implementation a course can only have a single department – this is a one-to-many relationship. It is also bidirectional. Furthermore, these objects are more strongly coupled – you can say that a department owns a course. The course cannot exist without the department.\n",
    "- A similar relationship exists between a course and its “runnings”: it is also bidirectional, one-to-many and strongly coupled it wouldn’t make sense for “MAM1000W run in 2013” to exist on its own in the absence of “MAM1000W”.\n",
    "\n",
    "What words like “exist” and “owns” actually mean for our code can vary. An object which “owns” another object could be responsible for creating that object when it requires it and destroying it when it is no longer needed – but these words can also be used to describe a logical relationship between concepts which is not necessarily literally implemented in that way in the code."
   ]
  }
 ],
 "metadata": {
  "interpreter": {
   "hash": "48ed341b6f63f0053d590fe0e5e295e54b1bfed5059adeb0dc11192f2dc45088"
  },
  "kernelspec": {
   "display_name": "Python 3.9.7 ('.venv': venv)",
   "language": "python",
   "name": "python3"
  },
  "language_info": {
   "codemirror_mode": {
    "name": "ipython",
    "version": 3
   },
   "file_extension": ".py",
   "mimetype": "text/x-python",
   "name": "python",
   "nbconvert_exporter": "python",
   "pygments_lexer": "ipython3",
   "version": "3.10.4"
  },
  "orig_nbformat": 4
 },
 "nbformat": 4,
 "nbformat_minor": 2
}
