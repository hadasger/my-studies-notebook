{
 "cells": [
  {
   "cell_type": "markdown",
   "metadata": {},
   "source": [
    "## Q5"
   ]
  },
  {
   "cell_type": "code",
   "execution_count": 4,
   "metadata": {},
   "outputs": [
    {
     "name": "stdout",
     "output_type": "stream",
     "text": [
      "C\n"
     ]
    }
   ],
   "source": [
    "grade = int(input(\"Enter your grade: \"))\n",
    "if grade < 25:\n",
    "    print (\"F\")\n",
    "elif (grade >= 25) and (grade < 45):\n",
    "    print (\"E\")\n",
    "elif (grade >=45) and (grade < 50):\n",
    "    print (\"D\")\n",
    "elif (grade >= 50) and (grade < 60):\n",
    "    print (\"C\")\n",
    "elif (grade >= 60) and (grade < 80):\n",
    "    print (\"B\")\n",
    "else:\n",
    "    print (\"A\")\n",
    "\n"
   ]
  },
  {
   "cell_type": "markdown",
   "metadata": {},
   "source": [
    "## Q6"
   ]
  },
  {
   "cell_type": "code",
   "execution_count": 5,
   "metadata": {},
   "outputs": [
    {
     "name": "stdout",
     "output_type": "stream",
     "text": [
      "The oldest is:  9\n"
     ]
    }
   ],
   "source": [
    "first_age = int(input(\"Enter first age: \"))\n",
    "second_age = int(input(\"Enter second age: \"))\n",
    "third_age = int(input(\"Enter third age: \"))\n",
    "\n",
    "if first_age >= second_age and first_age >= third_age:\n",
    "    print (\"The oldest is: \" , first_age)\n",
    "elif second_age >=first_age and second_age >= third_age:\n",
    "    print (\"The oldest is: \" , second_age)\n",
    "elif third_age >= first_age and third_age >= second_age:\n",
    "    print (\"The oldest is: \" , third_age)\n",
    "else:\n",
    "    print (\"All us equal\")"
   ]
  },
  {
   "cell_type": "markdown",
   "metadata": {},
   "source": [
    "## Q7"
   ]
  },
  {
   "cell_type": "code",
   "execution_count": 7,
   "metadata": {},
   "outputs": [
    {
     "name": "stdout",
     "output_type": "stream",
     "text": [
      "The absolute value of your number is:  2\n"
     ]
    }
   ],
   "source": [
    "num = int(input(\"Enter a number: \"))\n",
    "print (\"The absolute value of your number is: \" , abs(num))"
   ]
  },
  {
   "cell_type": "markdown",
   "metadata": {},
   "source": [
    "## Level 2 Q1"
   ]
  },
  {
   "cell_type": "code",
   "execution_count": 11,
   "metadata": {},
   "outputs": [
    {
     "name": "stdout",
     "output_type": "stream",
     "text": [
      "It's not a leap year\n"
     ]
    }
   ],
   "source": [
    "year = int(input(\"Enter a year: \"))\n",
    "if year%100 ==0:\n",
    "    if year%400 ==0:\n",
    "            print (\"It's a leap year\")\n",
    "    else:\n",
    "        print (\"It's not a leap year\")\n",
    "elif year%4 ==0:\n",
    "    print (\"It's a leap year\")\n",
    "else:\n",
    "    (\"It's not a leap year\")"
   ]
  },
  {
   "cell_type": "markdown",
   "metadata": {},
   "source": [
    "## Level 2 Q2"
   ]
  },
  {
   "cell_type": "code",
   "execution_count": 15,
   "metadata": {},
   "outputs": [
    {
     "name": "stdout",
     "output_type": "stream",
     "text": [
      "Error\n"
     ]
    }
   ],
   "source": [
    "age = int(input(\"Enter your age: \"))\n",
    "sex = input(\"Enter your sex, 'F' for female  and 'M' for man\")\n",
    "m_status = input(\"Enter your marital status - 'Y' or 'N'\")\n",
    "\n",
    "if sex == 'F' and age > 20 and age < 60 or (age >= 40 and age < 60):\n",
    "    print(\"Work in urban areas\")\n",
    "elif age > 20 and age < 40:\n",
    "    print (\"May work in anywhere\")\n",
    "else: \n",
    "    print (\"Error\") "
   ]
  },
  {
   "cell_type": "markdown",
   "metadata": {},
   "source": [
    "## EX 2"
   ]
  },
  {
   "cell_type": "code",
   "execution_count": 5,
   "metadata": {},
   "outputs": [
    {
     "name": "stdout",
     "output_type": "stream",
     "text": [
      "Enter your name: \n",
      "Enter your surname: \n",
      "Enter your birth year: \n",
      "Your initials are:  HG and your age is:  33\n"
     ]
    }
   ],
   "source": [
    "year = 2022\n",
    "def name_age():\n",
    "    print(\"Enter your name: \")\n",
    "    name = input()\n",
    "    print(\"Enter your surname: \")\n",
    "    surname = input()\n",
    "    print(\"Enter your birth year: \")\n",
    "    b_year = int(input())\n",
    "    initials = name[0] + surname[0]\n",
    "    age = year - b_year\n",
    "    print(\"Your initials are: \" , initials , \"and your age is: \" , age)\n",
    "\n",
    "name_age()"
   ]
  },
  {
   "cell_type": "markdown",
   "metadata": {},
   "source": [
    "## EX functions in #4"
   ]
  },
  {
   "cell_type": "markdown",
   "metadata": {},
   "source": [
    "### Q1"
   ]
  },
  {
   "cell_type": "code",
   "execution_count": 7,
   "metadata": {},
   "outputs": [
    {
     "name": "stdout",
     "output_type": "stream",
     "text": [
      "Your name is:  Hadas and your age is:  33\n"
     ]
    }
   ],
   "source": [
    "def name_age(name, age):\n",
    "    print(\"Your name is: \" , name , \"and your age is: \" , age)\n",
    "\n",
    "name_age(\"Hadas\", 33)"
   ]
  },
  {
   "cell_type": "markdown",
   "metadata": {},
   "source": [
    "### Q2"
   ]
  },
  {
   "cell_type": "code",
   "execution_count": 8,
   "metadata": {},
   "outputs": [
    {
     "name": "stdout",
     "output_type": "stream",
     "text": [
      "3\n",
      "10\n",
      "50\n"
     ]
    }
   ],
   "source": [
    "def func_1(*num):\n",
    "    for i in num:\n",
    "        print(i)\n",
    "\n",
    "func_1(3, 10, 50)"
   ]
  },
  {
   "cell_type": "markdown",
   "metadata": {},
   "source": [
    "### Q3"
   ]
  },
  {
   "cell_type": "code",
   "execution_count": 9,
   "metadata": {},
   "outputs": [],
   "source": [
    "def calculation(num_1, num_2):\n",
    "    return num_1+num_2, num_1-num_2\n",
    "    "
   ]
  },
  {
   "cell_type": "markdown",
   "metadata": {},
   "source": [
    "### Q4"
   ]
  },
  {
   "cell_type": "code",
   "execution_count": 10,
   "metadata": {},
   "outputs": [
    {
     "name": "stdout",
     "output_type": "stream",
     "text": [
      "Name:  Hadas Shabat Salary:  9000\n"
     ]
    }
   ],
   "source": [
    "def show_employee(name, salary=9000):\n",
    "    print(\"Name: \" , name , \"Salary: \" , salary)\n",
    "\n",
    "show_employee(\"Hadas Shabat\")"
   ]
  }
 ],
 "metadata": {
  "interpreter": {
   "hash": "48ed341b6f63f0053d590fe0e5e295e54b1bfed5059adeb0dc11192f2dc45088"
  },
  "kernelspec": {
   "display_name": "Python 3.9.7 ('.venv': venv)",
   "language": "python",
   "name": "python3"
  },
  "language_info": {
   "codemirror_mode": {
    "name": "ipython",
    "version": 3
   },
   "file_extension": ".py",
   "mimetype": "text/x-python",
   "name": "python",
   "nbconvert_exporter": "python",
   "pygments_lexer": "ipython3",
   "version": "3.9.7"
  },
  "orig_nbformat": 4
 },
 "nbformat": 4,
 "nbformat_minor": 2
}
