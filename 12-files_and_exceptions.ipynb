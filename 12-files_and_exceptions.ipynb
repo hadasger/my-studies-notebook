{
 "cells": [
  {
   "cell_type": "markdown",
   "metadata": {},
   "source": [
    "# Files & Exceptions\n",
    "## Working with files"
   ]
  },
  {
   "cell_type": "markdown",
   "metadata": {},
   "source": [
    "### creating a file\n",
    "- The first parameter we take into the open method is the name of the file, and then we take as parameter 'w' that means we're going to open a writing file - a file we can write text to it, the same goes with 'r' - for reading file. We can also open a file for appending ('a'), and writing and reading ('r+'). The default is reading file.\n",
    "- In order to read a text we stored in a file, we have to store it in a variable.\n",
    "- After we done working with our file we have to remember to close it with ourname.close()"
   ]
  },
  {
   "cell_type": "code",
   "execution_count": 1,
   "metadata": {},
   "outputs": [],
   "source": [
    "fw = open('sample.txt', 'w')\n",
    "fw.write('Writing some stuff in my text file\\n')\n",
    "fw.write('I like bacon\\n')\n",
    "fw.close()"
   ]
  },
  {
   "cell_type": "code",
   "execution_count": 3,
   "metadata": {},
   "outputs": [
    {
     "name": "stdout",
     "output_type": "stream",
     "text": [
      "Writing some stuff in my text file\n",
      "I like bacon\n",
      "\n"
     ]
    }
   ],
   "source": [
    "fr = open('sample.txt', 'r')\n",
    "text = fr.read()\n",
    "print(text)\n",
    "fr.close()"
   ]
  },
  {
   "cell_type": "markdown",
   "metadata": {},
   "source": [
    "Another way of opening a file without the need to close it! In that case if we try to access the file outside the 'with' we will get an error"
   ]
  },
  {
   "cell_type": "code",
   "execution_count": 5,
   "metadata": {},
   "outputs": [
    {
     "ename": "ValueError",
     "evalue": "I/O operation on closed file.",
     "output_type": "error",
     "traceback": [
      "\u001b[0;31m---------------------------------------------------------------------------\u001b[0m",
      "\u001b[0;31mValueError\u001b[0m                                Traceback (most recent call last)",
      "\u001b[1;32m/home/lior/programming/hadas/python/pre_intro/12-files_and_exceptions.ipynb Cell 6'\u001b[0m in \u001b[0;36m<module>\u001b[0;34m\u001b[0m\n\u001b[1;32m      <a href='vscode-notebook-cell:/home/lior/programming/hadas/python/pre_intro/12-files_and_exceptions.ipynb#ch0000005?line=0'>1</a>\u001b[0m \u001b[39mwith\u001b[39;00m \u001b[39mopen\u001b[39m(\u001b[39m'\u001b[39m\u001b[39msample.txt\u001b[39m\u001b[39m'\u001b[39m, \u001b[39m'\u001b[39m\u001b[39mr\u001b[39m\u001b[39m'\u001b[39m) \u001b[39mas\u001b[39;00m f:\n\u001b[1;32m      <a href='vscode-notebook-cell:/home/lior/programming/hadas/python/pre_intro/12-files_and_exceptions.ipynb#ch0000005?line=1'>2</a>\u001b[0m     \u001b[39mpass\u001b[39;00m\n\u001b[0;32m----> <a href='vscode-notebook-cell:/home/lior/programming/hadas/python/pre_intro/12-files_and_exceptions.ipynb#ch0000005?line=3'>4</a>\u001b[0m \u001b[39mprint\u001b[39m(f\u001b[39m.\u001b[39;49mread())\n",
      "\u001b[0;31mValueError\u001b[0m: I/O operation on closed file."
     ]
    }
   ],
   "source": [
    "with open('sample.txt', 'r') as f:\n",
    "    pass\n",
    "\n",
    "print(f.read())\n",
    "\n"
   ]
  },
  {
   "cell_type": "code",
   "execution_count": 6,
   "metadata": {},
   "outputs": [
    {
     "name": "stdout",
     "output_type": "stream",
     "text": [
      "Writing some stuff in my text file\n",
      "I like bacon\n",
      "\n"
     ]
    }
   ],
   "source": [
    "with open('sample.txt', 'r') as f:\n",
    "    f_contents = f.read()\n",
    "    print(f_contents)\n"
   ]
  },
  {
   "cell_type": "markdown",
   "metadata": {},
   "source": [
    "- 'read' will read all of our text in the file at ones; 'readlines' will print all of our text in the file as a list where each item in the list is a different line of our file; 'readline' will print the next line in our file each time we will run the code."
   ]
  },
  {
   "cell_type": "code",
   "execution_count": 7,
   "metadata": {},
   "outputs": [
    {
     "name": "stdout",
     "output_type": "stream",
     "text": [
      "['Writing some stuff in my text file\\n', 'I like bacon\\n']\n"
     ]
    }
   ],
   "source": [
    "with open('sample.txt', 'r') as f:\n",
    "    f_contents = f.readlines()\n",
    "    print(f_contents)"
   ]
  },
  {
   "cell_type": "code",
   "execution_count": 8,
   "metadata": {},
   "outputs": [
    {
     "name": "stdout",
     "output_type": "stream",
     "text": [
      "Writing some stuff in my text file\n",
      "\n"
     ]
    }
   ],
   "source": [
    "with open('sample.txt', 'r') as f:\n",
    "    f_contents = f.readline()\n",
    "    print(f_contents)"
   ]
  },
  {
   "cell_type": "code",
   "execution_count": 9,
   "metadata": {},
   "outputs": [
    {
     "name": "stdout",
     "output_type": "stream",
     "text": [
      "Writing some stuff in my text file\n",
      "I like bacon\n"
     ]
    }
   ],
   "source": [
    "# another way to read all the lines in our file is to use for loop\n",
    "with open('sample.txt', 'r') as f:\n",
    "    for line in f:\n",
    "        print(line, end='')"
   ]
  },
  {
   "cell_type": "markdown",
   "metadata": {},
   "source": [
    "- We can decide what part of our file we want to read by insert a number between the () after the 'read' method, and that will print the first x characters in the file."
   ]
  },
  {
   "cell_type": "code",
   "execution_count": 10,
   "metadata": {},
   "outputs": [
    {
     "name": "stdout",
     "output_type": "stream",
     "text": [
      "Writing some stuff i"
     ]
    }
   ],
   "source": [
    "with open('sample.txt', 'r') as f:\n",
    "    f_contents = f.read(20)\n",
    "    print(f_contents, end = '')"
   ]
  },
  {
   "cell_type": "markdown",
   "metadata": {},
   "source": [
    "- Print out the file when we don't know its size"
   ]
  },
  {
   "cell_type": "code",
   "execution_count": 11,
   "metadata": {},
   "outputs": [
    {
     "name": "stdout",
     "output_type": "stream",
     "text": [
      "Writing so*me stuff i*n my text *file\n",
      "I lik*e bacon\n",
      "*"
     ]
    }
   ],
   "source": [
    "with open('sample.txt', 'r') as f:\n",
    "    size_to_read = 10\n",
    "    f_contents = f.read(size_to_read)\n",
    "\n",
    "    while len(f_contents) > 0:\n",
    "        print(f_contents, end = '*')\n",
    "        f_contents = f.read(size_to_read)"
   ]
  },
  {
   "cell_type": "markdown",
   "metadata": {},
   "source": [
    "- file.tell() - tell us where we are in the file. How many characters we read so far.\n",
    "- file.seek(0)- will start to read the file from the beginning (or from the character's position we gave) instead of keeping up where we left"
   ]
  },
  {
   "cell_type": "markdown",
   "metadata": {},
   "source": [
    "- Now we'll do the same with writing file.\n",
    "- Pay attention, if we have already an writing file and we call it with 'w', we will override it. In order not to we need to use 'a' for appending."
   ]
  },
  {
   "cell_type": "code",
   "execution_count": 12,
   "metadata": {},
   "outputs": [],
   "source": [
    "with open('test2.txt', 'w') as f:\n",
    "    f.write('Test')"
   ]
  },
  {
   "cell_type": "markdown",
   "metadata": {},
   "source": [
    "- We can use the 'seek' function in writing files also, but its not so common because its override our first text."
   ]
  },
  {
   "cell_type": "markdown",
   "metadata": {},
   "source": [
    "### Creating a copy of a file"
   ]
  },
  {
   "cell_type": "code",
   "execution_count": 14,
   "metadata": {},
   "outputs": [],
   "source": [
    "with open('sample.txt', 'r') as rf:\n",
    "    with open('test_copy.txt', 'w') as wf:\n",
    "        for line in rf:\n",
    "            wf.write(line)"
   ]
  },
  {
   "cell_type": "markdown",
   "metadata": {},
   "source": [
    "- When we're talking about pictures = jpg - we need to add 'b' to 'w' or 'r'."
   ]
  },
  {
   "cell_type": "markdown",
   "metadata": {},
   "source": [
    "## Exceptions Management"
   ]
  },
  {
   "cell_type": "markdown",
   "metadata": {},
   "source": [
    "- When the program crashes, Python will write the type of the error and you can catch it in future cases.\n",
    "- Exception error is when we get an error that doesn't relate to a syntax error.\n",
    "1. You catch exceptions using 'try' and 'except'.\n",
    "2. You can throw/raise exceptions using raise.\n",
    "3. After except, you can define else that will catch any other exception that wasn't caught so far.\n",
    "4. You can write code that will execute whether there was an exception or not in 'finally'.\n",
    "5. You can pass extra parameters when catching/throwing exceptions.\n",
    "6. You can define a class that will inherit from Exception and catch/throw/raise it  "
   ]
  },
  {
   "cell_type": "markdown",
   "metadata": {},
   "source": [
    "### ValueError - is one type of an exception error.\n",
    "- It will appear when we type in or took the wrong type of variable, for example: A string instead of an integer"
   ]
  },
  {
   "cell_type": "code",
   "execution_count": 1,
   "metadata": {},
   "outputs": [
    {
     "ename": "ValueError",
     "evalue": "invalid literal for int() with base 10: 'dasde'",
     "output_type": "error",
     "traceback": [
      "\u001b[0;31m---------------------------------------------------------------------------\u001b[0m",
      "\u001b[0;31mValueError\u001b[0m                                Traceback (most recent call last)",
      "\u001b[1;32m/home/lior/programming/hadas/python/pre_intro/12-files_and_exceptions.ipynb Cell 3'\u001b[0m in \u001b[0;36m<module>\u001b[0;34m\u001b[0m\n\u001b[0;32m----> <a href='vscode-notebook-cell:/home/lior/programming/hadas/python/pre_intro/12-files_and_exceptions.ipynb#ch0000002?line=0'>1</a>\u001b[0m tuna \u001b[39m=\u001b[39m \u001b[39mint\u001b[39;49m(\u001b[39minput\u001b[39;49m(\u001b[39m'\u001b[39;49m\u001b[39mWhat is your fav number?\u001b[39;49m\u001b[39m\\n\u001b[39;49;00m\u001b[39m'\u001b[39;49m))\n\u001b[1;32m      <a href='vscode-notebook-cell:/home/lior/programming/hadas/python/pre_intro/12-files_and_exceptions.ipynb#ch0000002?line=1'>2</a>\u001b[0m \u001b[39mprint\u001b[39m(tuna)\n",
      "\u001b[0;31mValueError\u001b[0m: invalid literal for int() with base 10: 'dasde'"
     ]
    }
   ],
   "source": [
    "tuna = int(input('What is your fav number?\\n'))\n",
    "print(tuna)"
   ]
  },
  {
   "cell_type": "markdown",
   "metadata": {},
   "source": [
    "- We can make sure that our code will keep running even if we had a ValueError by using the following code:"
   ]
  },
  {
   "cell_type": "code",
   "execution_count": 3,
   "metadata": {},
   "outputs": [
    {
     "name": "stdout",
     "output_type": "stream",
     "text": [
      "Make sure and enter a number.\n",
      "Make sure and enter a number.\n",
      "3.0\n"
     ]
    }
   ],
   "source": [
    "while True:\n",
    "    try:\n",
    "        number = int(input('What is your fav number?\\n'))\n",
    "        print(18/number)\n",
    "        break\n",
    "    except ValueError:\n",
    "        print('Make sure and enter a number.') "
   ]
  },
  {
   "cell_type": "markdown",
   "metadata": {},
   "source": [
    "### ZeroDivisionError - is another type of an exception error.\n",
    "- It will appear when we try to devide a number in zero.\n",
    "- We will handle it in the same way we handle ValueError, but instead of ValueError we will write ZeroDivisionError."
   ]
  },
  {
   "cell_type": "markdown",
   "metadata": {},
   "source": [
    "! If we don't know what the exceptions that we need, and we want to make sure our code will keep running we can use \"except: break\". But it's not recommended because in this way we won't be able to know where or what are our error. "
   ]
  },
  {
   "cell_type": "markdown",
   "metadata": {},
   "source": [
    "### finally - we use finally when we want to execute something no matter what we did in the code above "
   ]
  },
  {
   "cell_type": "code",
   "execution_count": 4,
   "metadata": {},
   "outputs": [
    {
     "name": "stdout",
     "output_type": "stream",
     "text": [
      "Make sure and enter a number.\n",
      "loop complete\n",
      "Don't pick zero\n",
      "loop complete\n",
      "3.0\n",
      "loop complete\n"
     ]
    }
   ],
   "source": [
    "while True:\n",
    "    try:\n",
    "        number = int(input('What is your fav number?\\n'))\n",
    "        print(18/number)\n",
    "        break\n",
    "    except ValueError:\n",
    "        print('Make sure and enter a number.')\n",
    "    except ZeroDivisionError:\n",
    "        print('Don\\'t pick zero')\n",
    "    except:\n",
    "        break\n",
    "    finally:\n",
    "        print('loop complete')"
   ]
  },
  {
   "cell_type": "markdown",
   "metadata": {},
   "source": [
    "### FileNotFoundError"
   ]
  },
  {
   "cell_type": "code",
   "execution_count": 5,
   "metadata": {},
   "outputs": [
    {
     "name": "stdout",
     "output_type": "stream",
     "text": [
      "Sorry. This file does not exist\n"
     ]
    }
   ],
   "source": [
    "try:\n",
    "    f = open('testfile.txt')\n",
    "except Exception:\n",
    "    print('Sorry. This file does not exist')"
   ]
  },
  {
   "cell_type": "markdown",
   "metadata": {},
   "source": [
    "The better way of writing the code above is with the specific exception"
   ]
  },
  {
   "cell_type": "code",
   "execution_count": 6,
   "metadata": {},
   "outputs": [
    {
     "name": "stdout",
     "output_type": "stream",
     "text": [
      "Sorry. This file does not exist\n"
     ]
    }
   ],
   "source": [
    "try:\n",
    "    f = open('testfile.txt')\n",
    "except FileNotFoundError:\n",
    "    print('Sorry. This file does not exist')"
   ]
  },
  {
   "cell_type": "markdown",
   "metadata": {},
   "source": [
    "We can also use 'as e' for catching any exceptions"
   ]
  },
  {
   "cell_type": "code",
   "execution_count": 7,
   "metadata": {},
   "outputs": [
    {
     "name": "stdout",
     "output_type": "stream",
     "text": [
      "name 'bad_var' is not defined\n"
     ]
    }
   ],
   "source": [
    "try:\n",
    "    var = bad_var\n",
    "except Exception as e:\n",
    "    print(e)"
   ]
  },
  {
   "cell_type": "markdown",
   "metadata": {},
   "source": [
    "### else - we can use else in a similar way of using finally, but it will work only when we didn't find any exceptions\n",
    "### raise exception - will give us the content of the exception even there was no error"
   ]
  },
  {
   "cell_type": "code",
   "execution_count": 1,
   "metadata": {},
   "outputs": [],
   "source": [
    "def print_list_element(thelist, index):\n",
    "    try:\n",
    "        print(thelist[index])\n",
    "    except IndexError as ie:\n",
    "        print('Index provided exceeds the length of the list. Please enter another index.')\n",
    "        raise ie"
   ]
  },
  {
   "cell_type": "markdown",
   "metadata": {},
   "source": [
    "## assert\n",
    "- The syntax is 'assert' (condition)\n",
    "- if (condition) is False, raise an AssertionError exception, and the program will stop"
   ]
  },
  {
   "cell_type": "markdown",
   "metadata": {},
   "source": [
    "### The difference between assert and try...except\n",
    "Two categories of software errors:\n",
    "1. Recoverable errors (try...except) - User take corrective action (try again, choose another option).\n",
    "2. Unrecoverable errors (assert) - Not enough information to fix or no alternative action is possible."
   ]
  },
  {
   "cell_type": "code",
   "execution_count": 8,
   "metadata": {},
   "outputs": [
    {
     "name": "stdout",
     "output_type": "stream",
     "text": [
      "my name is quaid\n"
     ]
    }
   ],
   "source": [
    "name = 'quaid'\n",
    "assert(name == 'quaid')\n",
    "print(f'my name is {name}')"
   ]
  },
  {
   "cell_type": "code",
   "execution_count": 9,
   "metadata": {},
   "outputs": [
    {
     "ename": "AssertionError",
     "evalue": "",
     "output_type": "error",
     "traceback": [
      "\u001b[0;31m---------------------------------------------------------------------------\u001b[0m",
      "\u001b[0;31mAssertionError\u001b[0m                            Traceback (most recent call last)",
      "\u001b[1;32m/home/lior/programming/hadas/python/pre_intro/12-files_and_exceptions.ipynb Cell 11'\u001b[0m in \u001b[0;36m<module>\u001b[0;34m\u001b[0m\n\u001b[1;32m      <a href='vscode-notebook-cell:/home/lior/programming/hadas/python/pre_intro/12-files_and_exceptions.ipynb#ch0000010?line=0'>1</a>\u001b[0m name \u001b[39m=\u001b[39m \u001b[39m'\u001b[39m\u001b[39mhadas\u001b[39m\u001b[39m'\u001b[39m\n\u001b[0;32m----> <a href='vscode-notebook-cell:/home/lior/programming/hadas/python/pre_intro/12-files_and_exceptions.ipynb#ch0000010?line=1'>2</a>\u001b[0m \u001b[39massert\u001b[39;00m(name \u001b[39m==\u001b[39m \u001b[39m'\u001b[39m\u001b[39mquaid\u001b[39m\u001b[39m'\u001b[39m)\n\u001b[1;32m      <a href='vscode-notebook-cell:/home/lior/programming/hadas/python/pre_intro/12-files_and_exceptions.ipynb#ch0000010?line=2'>3</a>\u001b[0m \u001b[39mprint\u001b[39m(\u001b[39mf\u001b[39m\u001b[39m'\u001b[39m\u001b[39mmy name is \u001b[39m\u001b[39m{\u001b[39;00mname\u001b[39m}\u001b[39;00m\u001b[39m'\u001b[39m)\n",
      "\u001b[0;31mAssertionError\u001b[0m: "
     ]
    }
   ],
   "source": [
    "name = 'hadas'\n",
    "assert(name == 'quaid')\n",
    "print(f'my name is {name}')"
   ]
  },
  {
   "cell_type": "markdown",
   "metadata": {},
   "source": [
    "We can write someting after the assert that will run even the program raise an AssertionError, so that the assert will be clearer. After that the program will stop."
   ]
  },
  {
   "cell_type": "code",
   "execution_count": 10,
   "metadata": {},
   "outputs": [
    {
     "ename": "AssertionError",
     "evalue": "name is hadas, it should be quaid",
     "output_type": "error",
     "traceback": [
      "\u001b[0;31m---------------------------------------------------------------------------\u001b[0m",
      "\u001b[0;31mAssertionError\u001b[0m                            Traceback (most recent call last)",
      "\u001b[1;32m/home/lior/programming/hadas/python/pre_intro/12-files_and_exceptions.ipynb Cell 13'\u001b[0m in \u001b[0;36m<module>\u001b[0;34m\u001b[0m\n\u001b[1;32m      <a href='vscode-notebook-cell:/home/lior/programming/hadas/python/pre_intro/12-files_and_exceptions.ipynb#ch0000012?line=0'>1</a>\u001b[0m name \u001b[39m=\u001b[39m \u001b[39m'\u001b[39m\u001b[39mhadas\u001b[39m\u001b[39m'\u001b[39m\n\u001b[0;32m----> <a href='vscode-notebook-cell:/home/lior/programming/hadas/python/pre_intro/12-files_and_exceptions.ipynb#ch0000012?line=1'>2</a>\u001b[0m \u001b[39massert\u001b[39;00m(name \u001b[39m==\u001b[39m \u001b[39m'\u001b[39m\u001b[39mquaid\u001b[39m\u001b[39m'\u001b[39m), \u001b[39mf\u001b[39m\u001b[39m'\u001b[39m\u001b[39mname is \u001b[39m\u001b[39m{\u001b[39;00mname\u001b[39m}\u001b[39;00m\u001b[39m, it should be quaid\u001b[39m\u001b[39m'\u001b[39m\n\u001b[1;32m      <a href='vscode-notebook-cell:/home/lior/programming/hadas/python/pre_intro/12-files_and_exceptions.ipynb#ch0000012?line=2'>3</a>\u001b[0m \u001b[39mprint\u001b[39m(\u001b[39mf\u001b[39m\u001b[39m'\u001b[39m\u001b[39mmy name is \u001b[39m\u001b[39m{\u001b[39;00mname\u001b[39m}\u001b[39;00m\u001b[39m'\u001b[39m)\n",
      "\u001b[0;31mAssertionError\u001b[0m: name is hadas, it should be quaid"
     ]
    }
   ],
   "source": [
    "name = 'hadas'\n",
    "assert(name == 'quaid'), f'name is {name}, it should be quaid'\n",
    "print(f'my name is {name}')"
   ]
  }
 ],
 "metadata": {
  "kernelspec": {
   "display_name": "Python 3.9.7 ('.venv': venv)",
   "language": "python",
   "name": "python3"
  },
  "language_info": {
   "codemirror_mode": {
    "name": "ipython",
    "version": 3
   },
   "file_extension": ".py",
   "mimetype": "text/x-python",
   "name": "python",
   "nbconvert_exporter": "python",
   "pygments_lexer": "ipython3",
   "version": "3.10.4"
  },
  "orig_nbformat": 4,
  "vscode": {
   "interpreter": {
    "hash": "48ed341b6f63f0053d590fe0e5e295e54b1bfed5059adeb0dc11192f2dc45088"
   }
  }
 },
 "nbformat": 4,
 "nbformat_minor": 2
}
