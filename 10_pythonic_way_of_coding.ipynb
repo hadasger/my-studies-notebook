{
 "cells": [
  {
   "cell_type": "markdown",
   "metadata": {},
   "source": [
    "# Pythonic way of Coding\n",
    "## refer to loops and conditions"
   ]
  },
  {
   "cell_type": "markdown",
   "metadata": {},
   "source": [
    "## enumerate()\n",
    "- enumerate() is a function that presents the objects in a list, incluing the order in which the items appear.\n",
    "- The list that received after running the function enumerate(), consists of tuples, where the first item represents the location of the item in the original list (its index), and the second item in the tuple is the item itself."
   ]
  },
  {
   "cell_type": "code",
   "execution_count": 3,
   "metadata": {},
   "outputs": [
    {
     "name": "stdout",
     "output_type": "stream",
     "text": [
      "['', 'B', 'CC']\n"
     ]
    }
   ],
   "source": [
    "my_list = []\n",
    "for (i,s) in enumerate(['A', 'B', 'C']):\n",
    "    my_list.append(i*s)\n",
    "\n",
    "print(my_list)"
   ]
  },
  {
   "cell_type": "markdown",
   "metadata": {},
   "source": [
    "We can see above, that i represents the index and s represents the item itself (the string). In the loop, we have multiplied the object itself with its index, and entered the result into a list. In pythonic, we can write it all in one line of code!"
   ]
  },
  {
   "cell_type": "code",
   "execution_count": 4,
   "metadata": {},
   "outputs": [
    {
     "name": "stdout",
     "output_type": "stream",
     "text": [
      "['', 'B', 'CC']\n"
     ]
    }
   ],
   "source": [
    "my_list = [i*s for (i,s) in enumerate(['A','B','C'])]\n",
    "print(my_list)"
   ]
  },
  {
   "cell_type": "markdown",
   "metadata": {},
   "source": [
    "## dict.items()\n",
    "- dict.items() is the method for dictionaries, it stores the key and the value of each key in tuple."
   ]
  },
  {
   "cell_type": "code",
   "execution_count": 5,
   "metadata": {},
   "outputs": [
    {
     "data": {
      "text/plain": [
       "[(4, 0), (3, 2), (100, 1)]"
      ]
     },
     "execution_count": 5,
     "metadata": {},
     "output_type": "execute_result"
    }
   ],
   "source": [
    "my_dict = {4:0, 3:2, 100:1}\n",
    "[my_tuple for my_tuple in my_dict.items()]"
   ]
  },
  {
   "cell_type": "markdown",
   "metadata": {},
   "source": [
    "- The received list from mydict.items() consists of tuples, where the first item in each tuple is the key, and the second item is the value under this key in the dictionary.\n",
    "- Similar to the previous example of enumerate(), it is possible to do an arithmetical operation for each item, and receive a list of the items, after being changed: "
   ]
  },
  {
   "cell_type": "code",
   "execution_count": 6,
   "metadata": {},
   "outputs": [
    {
     "data": {
      "text/plain": [
       "[8, 8, 201]"
      ]
     },
     "execution_count": 6,
     "metadata": {},
     "output_type": "execute_result"
    }
   ],
   "source": [
    "my_dict = {4:0, 3:2, 100:1}\n",
    "[2*k+v for (k,v) in my_dict.items()]"
   ]
  },
  {
   "cell_type": "markdown",
   "metadata": {},
   "source": [
    "In the example above, k represents the key, and v represents the value under that key, for each key. Each item in the list includes multiplying the key by 2 and adding the value to it."
   ]
  },
  {
   "cell_type": "markdown",
   "metadata": {},
   "source": [
    "## conditioning- if/else"
   ]
  },
  {
   "cell_type": "code",
   "execution_count": 7,
   "metadata": {},
   "outputs": [
    {
     "name": "stdout",
     "output_type": "stream",
     "text": [
      "a=5\n"
     ]
    }
   ],
   "source": [
    "a = 5 \n",
    "if a == 1:\n",
    "    print ('a=1')\n",
    "else:\n",
    "    print('a=5')"
   ]
  },
  {
   "cell_type": "markdown",
   "metadata": {},
   "source": [
    "the pythonic way:"
   ]
  },
  {
   "cell_type": "code",
   "execution_count": 8,
   "metadata": {},
   "outputs": [
    {
     "name": "stdout",
     "output_type": "stream",
     "text": [
      "a=5\n"
     ]
    }
   ],
   "source": [
    "print ('a=1' if a == 1 else ('a=5'))"
   ]
  },
  {
   "cell_type": "markdown",
   "metadata": {},
   "source": [
    "## conditioning- if/elif/else"
   ]
  },
  {
   "cell_type": "code",
   "execution_count": 9,
   "metadata": {},
   "outputs": [
    {
     "name": "stdout",
     "output_type": "stream",
     "text": [
      "a=5\n"
     ]
    }
   ],
   "source": [
    "if a == 1:\n",
    "    print ('a=1')\n",
    "elif a == 2:\n",
    "    print ('a=2')\n",
    "else:\n",
    "    print ('a=5')"
   ]
  },
  {
   "cell_type": "markdown",
   "metadata": {},
   "source": [
    "the pythonic way:"
   ]
  },
  {
   "cell_type": "code",
   "execution_count": 10,
   "metadata": {},
   "outputs": [
    {
     "data": {
      "text/plain": [
       "'a=5'"
      ]
     },
     "execution_count": 10,
     "metadata": {},
     "output_type": "execute_result"
    }
   ],
   "source": [
    "print ('a=1') if a == 1 else ('a=2') if a == 2 else ('a=5')"
   ]
  },
  {
   "cell_type": "markdown",
   "metadata": {},
   "source": [
    "### !! You can add as many 'else x if y' as you'd like"
   ]
  },
  {
   "cell_type": "markdown",
   "metadata": {},
   "source": [
    "## The rules - for single line of code conditioning\n",
    "1. The result should appear before the condition;\n",
    "2. You must add an 'else' in the end of the conditioning. If there is no 'else', you can not write the conditioning in a single code line.\n",
    "3. Each condition must have only one result. "
   ]
  },
  {
   "cell_type": "markdown",
   "metadata": {},
   "source": [
    "## condition + loop\n",
    "It is possible to write a condition and a loop together in a single line of code, but specifically in this case, there is no need to finish the conditioning with 'else' if we started with a 'for'. For example:\n"
   ]
  },
  {
   "cell_type": "code",
   "execution_count": 11,
   "metadata": {},
   "outputs": [
    {
     "data": {
      "text/plain": [
       "[1, 3, 6]"
      ]
     },
     "execution_count": 11,
     "metadata": {},
     "output_type": "execute_result"
    }
   ],
   "source": [
    "[i for i in [1,None,3,None,None,6] if i != None]"
   ]
  },
  {
   "cell_type": "markdown",
   "metadata": {},
   "source": [
    "create a new dictionary from two lists:"
   ]
  },
  {
   "cell_type": "code",
   "execution_count": 2,
   "metadata": {},
   "outputs": [
    {
     "name": "stdout",
     "output_type": "stream",
     "text": [
      "{1: 'a', 2: 'b', 3: 'c', 4: 'd'}\n"
     ]
    }
   ],
   "source": [
    "list1 = [1,2,3,4,5]\n",
    "list2 = ['a','b','c','d','e']\n",
    "new_dict = {list1[x]:list2[x] for x in range(len(list2)) if x != 4}\n",
    "print (new_dict)"
   ]
  },
  {
   "cell_type": "markdown",
   "metadata": {},
   "source": [
    "## Lambda and list comprehension\n",
    "lambda syntax: lambda arguments: expression\n",
    "- A lambda operator or lambda function is used for creating small, one-time, anonymous function objects in Python.\n",
    "- A lambda operator can have any number of arguments but can have only one expression. It cannot contain any statements and returns a function object which can be assigned to any variable.\n",
    "- It is not necessary to use lambda - it's a matter of style. It could be used in cases when a one-line function is required and there is no need for it to be recycled if you do not want to 'stain' the code with a lot of line functions."
   ]
  },
  {
   "cell_type": "markdown",
   "metadata": {},
   "source": [
    "### !!! lambda functions are passed as parameters to functions that expect function object as parameters such as map, reduce, and filter functions"
   ]
  },
  {
   "cell_type": "markdown",
   "metadata": {},
   "source": [
    "### Map function\n",
    "map syntax: map(func, seq)\n",
    "- map functions expect a function object and any number of iterables, such as list, dictionary, etc. It executes the function_object for each element in the sequence and returns a list of the elements modified by the function object.\n",
    "- In Python3, the map function returns an iterator or map object which gets lazily evaluated, similar to how the zip function is evaluated. We can’t access the elements of the map object with index nor we can use len() to find the length of the map object. We can, however, force convert the map output, i.e. the map object, to list."
   ]
  },
  {
   "cell_type": "code",
   "execution_count": 1,
   "metadata": {},
   "outputs": [
    {
     "name": "stdout",
     "output_type": "stream",
     "text": [
      "[1, 4, 9, 16, 25]\n"
     ]
    }
   ],
   "source": [
    "numbers = [1,2,3,4,5]\n",
    "\n",
    "def square(x):\n",
    "    return x**2\n",
    "\n",
    "print(list(map(square, numbers)))"
   ]
  },
  {
   "cell_type": "code",
   "execution_count": 2,
   "metadata": {},
   "outputs": [
    {
     "name": "stdout",
     "output_type": "stream",
     "text": [
      "[1, 4, 9, 16, 25]\n"
     ]
    }
   ],
   "source": [
    "# the same code above but with lambda\n",
    "print(list(map(lambda x: x**2, numbers)))"
   ]
  },
  {
   "cell_type": "code",
   "execution_count": 11,
   "metadata": {},
   "outputs": [
    {
     "name": "stdout",
     "output_type": "stream",
     "text": [
      "['python', 'java']\n",
      "[11, 22, 33]\n"
     ]
    }
   ],
   "source": [
    "# iterating over a dictionary using map and lambda\n",
    "dict_a = [{'name': 'python', 'points': 10}, {'name': 'java', 'points': 8}]\n",
    "\n",
    "#converting the map output with 'list'\n",
    "print(list(map(lambda x: x['name'], dict_a)))\n",
    "map(lambda x: x['points']*10, dict_a)\n",
    "map(lambda x: x['name'] =='python', dict_a)\n",
    "\n",
    "#multiple iterables to the map function\n",
    "list_a = [1,2,3]\n",
    "list_b = [10,20,30]\n",
    "\n",
    "print(list(map(lambda x,y: x+y, list_a, list_b)))"
   ]
  },
  {
   "cell_type": "markdown",
   "metadata": {},
   "source": [
    "### Filter function\n",
    "filter syntax: filter(func, seq)\n",
    "- The filter function expects two arguments: function_object and an iterable. function_object returns a boolean value and is called for each element of the iterable. filter returns only those elements for which the function_object returns True.\n",
    "- Like the map function, the filter function also returns a list of elements. \n",
    "- Unlike map, the filter function can only have one iterable as input.\n",
    "- In Python3, the filter function returns an iterator or filter object which gets lazily evaluated, similar to how the zip function is evaluated. We can’t access the elements of the filter object with index nor we can use len() to find the length of the filter object. We can, however, force convert the filter output, i.e. the filter object, to list."
   ]
  },
  {
   "cell_type": "code",
   "execution_count": 3,
   "metadata": {},
   "outputs": [
    {
     "name": "stdout",
     "output_type": "stream",
     "text": [
      "[4, 5, 6]\n"
     ]
    }
   ],
   "source": [
    "nums = [1, 2, 3, 4, 5, 6]\n",
    "\n",
    "print(list(filter(lambda x: x> 3, nums)))"
   ]
  },
  {
   "cell_type": "markdown",
   "metadata": {},
   "source": [
    "### Reduce function\n",
    "reduce syntax: reduce(func, seq)\n",
    "- Reduce function needs to be import!\n",
    "- reduce runs the input function that was received each time on two adjacent items in a list and continues until the end.\n",
    "- usually will return a single value"
   ]
  },
  {
   "cell_type": "code",
   "execution_count": 4,
   "metadata": {},
   "outputs": [
    {
     "name": "stdout",
     "output_type": "stream",
     "text": [
      "21\n"
     ]
    }
   ],
   "source": [
    "from functools import reduce\n",
    "\n",
    "print(reduce(lambda x, y: x+y, nums))"
   ]
  },
  {
   "cell_type": "markdown",
   "metadata": {},
   "source": [
    "### Sorted function"
   ]
  },
  {
   "cell_type": "code",
   "execution_count": 5,
   "metadata": {},
   "outputs": [
    {
     "name": "stdout",
     "output_type": "stream",
     "text": [
      "[(1, 2), (15, 1), (5, -1), (10, 4)]\n",
      "[(5, -1), (15, 1), (1, 2), (10, 4)]\n"
     ]
    }
   ],
   "source": [
    "points2D = [(1,2), (15,1), (5,-1), (10,4)]\n",
    "\n",
    "points2D_sorted = sorted(points2D, key = lambda x: x[1])\n",
    "\n",
    "print(points2D)\n",
    "print(points2D_sorted)"
   ]
  }
 ],
 "metadata": {
  "interpreter": {
   "hash": "48ed341b6f63f0053d590fe0e5e295e54b1bfed5059adeb0dc11192f2dc45088"
  },
  "kernelspec": {
   "display_name": "Python 3.9.7 ('.venv': venv)",
   "language": "python",
   "name": "python3"
  },
  "language_info": {
   "codemirror_mode": {
    "name": "ipython",
    "version": 3
   },
   "file_extension": ".py",
   "mimetype": "text/x-python",
   "name": "python",
   "nbconvert_exporter": "python",
   "pygments_lexer": "ipython3",
   "version": "3.10.4"
  },
  "orig_nbformat": 4
 },
 "nbformat": 4,
 "nbformat_minor": 2
}
