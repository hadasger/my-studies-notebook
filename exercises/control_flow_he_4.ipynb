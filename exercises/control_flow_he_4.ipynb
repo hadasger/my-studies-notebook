{
 "cells": [
  {
   "cell_type": "code",
   "execution_count": 10,
   "metadata": {},
   "outputs": [
    {
     "name": "stdout",
     "output_type": "stream",
     "text": [
      "927\n"
     ]
    }
   ],
   "source": [
    "#select a randdom number between 1 and 1000\n",
    "import random\n",
    "random_number = random.randint(1, 1000)\n",
    "print(random_number)"
   ]
  },
  {
   "cell_type": "code",
   "execution_count": 11,
   "metadata": {},
   "outputs": [
    {
     "name": "stdout",
     "output_type": "stream",
     "text": [
      "927.png\n"
     ]
    }
   ],
   "source": [
    "#add the suffix \".png\" to the number\n",
    "name_pict = str(random_number) + \".png\"\n",
    "print(name_pict)"
   ]
  },
  {
   "cell_type": "code",
   "execution_count": 13,
   "metadata": {},
   "outputs": [
    {
     "name": "stdout",
     "output_type": "stream",
     "text": [
      "('927.png', <http.client.HTTPMessage object at 0x7fb170686f70>)\n"
     ]
    }
   ],
   "source": [
    "import urllib.request\n",
    "img_url = \"https://i0.wp.com/spainonafork.com/wp-content/uploads/2019/04/popcornHOR-11.png?fit=750%2C750&ssl=1\"\n",
    "local_filename = urllib.request.urlretrieve(img_url, name_pict)\n",
    "print(local_filename)"
   ]
  }
 ],
 "metadata": {
  "interpreter": {
   "hash": "48ed341b6f63f0053d590fe0e5e295e54b1bfed5059adeb0dc11192f2dc45088"
  },
  "kernelspec": {
   "display_name": "Python 3.9.7 ('.venv': venv)",
   "language": "python",
   "name": "python3"
  },
  "language_info": {
   "codemirror_mode": {
    "name": "ipython",
    "version": 3
   },
   "file_extension": ".py",
   "mimetype": "text/x-python",
   "name": "python",
   "nbconvert_exporter": "python",
   "pygments_lexer": "ipython3",
   "version": "3.9.7"
  },
  "orig_nbformat": 4
 },
 "nbformat": 4,
 "nbformat_minor": 2
}
