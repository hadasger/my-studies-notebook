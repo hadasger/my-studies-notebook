{
 "cells": [
  {
   "cell_type": "markdown",
   "metadata": {},
   "source": [
    "# Loops\n",
    "\n",
    "- we have two different kinds of loops: 'for' and 'while':\n",
    "    - 'for' loop: We will use for loop when we need to go through a parameter which is iterable (meaning it can be split to all of it's parts, for example: lits, strings, dictionaries), so the loop will iterate over the parts by a pre-defined order (for list it is the index's order). In for loop we cannot change the running order so when we use it we know we went through all the parts in order.\n",
    "    - 'while' loop: We will use while loop when we want to run an unknown number of times. It is important when using this loop. to change the parameter the loop is checking. in order to avoid infinite loop.\n",
    "- Loop control Statements:\n",
    "    - break = used to terminate the loop entirely\n",
    "    - continue = skips to the next iteration of the loop\n",
    "    - pass = does nothing, acts as a placeholder"
   ]
  },
  {
   "cell_type": "markdown",
   "metadata": {},
   "source": [
    "## break"
   ]
  },
  {
   "cell_type": "code",
   "execution_count": 1,
   "metadata": {},
   "outputs": [
    {
     "name": "stdout",
     "output_type": "stream",
     "text": [
      "subscribe\n",
      "to\n",
      "kylie\n",
      "the end\n"
     ]
    }
   ],
   "source": [
    "word_list = ['subscribe', 'to', 'kylie', 'ying']\n",
    "for name in word_list:\n",
    "    print(name)\n",
    "    if name == 'kylie':\n",
    "        break\n",
    "print('the end')"
   ]
  },
  {
   "cell_type": "code",
   "execution_count": 2,
   "metadata": {},
   "outputs": [
    {
     "name": "stdout",
     "output_type": "stream",
     "text": [
      "1\n",
      "2\n",
      "3\n",
      "the end\n"
     ]
    }
   ],
   "source": [
    "i = 1\n",
    "while i < 5:\n",
    "    print (i)\n",
    "    if i == 3:\n",
    "        break\n",
    "    i+= 1\n",
    "print ('the end')"
   ]
  },
  {
   "cell_type": "markdown",
   "metadata": {},
   "source": [
    "## continue\n",
    "if we write 'continue', it will pass on to the next item"
   ]
  },
  {
   "cell_type": "code",
   "execution_count": 3,
   "metadata": {},
   "outputs": [
    {
     "name": "stdout",
     "output_type": "stream",
     "text": [
      "subscribe\n",
      "to\n",
      "ying\n",
      "the end\n"
     ]
    }
   ],
   "source": [
    "for name in word_list:\n",
    "    if name == 'kylie':\n",
    "        continue\n",
    "    print (name)\n",
    "print ('the end')"
   ]
  },
  {
   "cell_type": "code",
   "execution_count": 4,
   "metadata": {},
   "outputs": [
    {
     "name": "stdout",
     "output_type": "stream",
     "text": [
      "1234567890"
     ]
    }
   ],
   "source": [
    "phone_number = '123-456-7890'\n",
    "\n",
    "for i in phone_number:\n",
    "    if i == '-':\n",
    "        continue\n",
    "    print (i, end='')"
   ]
  },
  {
   "cell_type": "markdown",
   "metadata": {},
   "source": [
    "## pass"
   ]
  },
  {
   "cell_type": "code",
   "execution_count": 5,
   "metadata": {},
   "outputs": [
    {
     "name": "stdout",
     "output_type": "stream",
     "text": [
      "1\n",
      "2\n",
      "3\n",
      "4\n",
      "5\n",
      "6\n",
      "7\n",
      "8\n",
      "9\n",
      "10\n",
      "11\n",
      "12\n",
      "14\n",
      "15\n",
      "16\n",
      "17\n",
      "18\n",
      "19\n",
      "20\n"
     ]
    }
   ],
   "source": [
    "for i in range(1,21):\n",
    "\n",
    "    if i ==13:\n",
    "        pass\n",
    "    else:\n",
    "        print (i)\n"
   ]
  },
  {
   "cell_type": "markdown",
   "metadata": {},
   "source": [
    "## ex- string_match"
   ]
  },
  {
   "cell_type": "code",
   "execution_count": 7,
   "metadata": {},
   "outputs": [
    {
     "name": "stdout",
     "output_type": "stream",
     "text": [
      "3\n"
     ]
    }
   ],
   "source": [
    "def string_match (a, b):\n",
    "    shorter = min (len(a), len(b))\n",
    "    count = 0\n",
    "    for i in range(shorter-1):\n",
    "        a_sub = a[i:i+2]\n",
    "        b_sub = b[i:i+2]\n",
    "        if a_sub == b_sub:\n",
    "            count += 1\n",
    "    return (count)\n",
    "\n",
    "print (string_match ('xxcaazz', 'xxbaaz'))"
   ]
  },
  {
   "cell_type": "markdown",
   "metadata": {},
   "source": [
    "## ex- strings that the first and last characters are equal"
   ]
  },
  {
   "cell_type": "code",
   "execution_count": 8,
   "metadata": {},
   "outputs": [
    {
     "name": "stdout",
     "output_type": "stream",
     "text": [
      "['aba', 'bb']\n"
     ]
    }
   ],
   "source": [
    "def strings_first_last (lst1):\n",
    "    lst2 = []\n",
    "    for string in lst1:\n",
    "        if string[0] == string [-1]:\n",
    "            lst2.append (string)\n",
    "    return lst2\n",
    "\n",
    "print (strings_first_last (['aba', 'abc', 'bb']))"
   ]
  },
  {
   "cell_type": "markdown",
   "metadata": {},
   "source": [
    "### the break, continue and pass statements only affect the current loop"
   ]
  },
  {
   "cell_type": "code",
   "execution_count": 10,
   "metadata": {},
   "outputs": [
    {
     "name": "stdout",
     "output_type": "stream",
     "text": [
      "The number is: 0 0\n",
      "The number is: 0 1\n",
      "The number is: 0 3\n",
      "The number is: 1 0\n",
      "The number is: 1 1\n",
      "The number is: 1 3\n",
      "The number is: 2 0\n",
      "The number is: 2 1\n",
      "The number is: 2 3\n",
      "The number is: 3 0\n",
      "The number is: 3 1\n",
      "The number is: 3 3\n"
     ]
    }
   ],
   "source": [
    "for i in range(4):\n",
    "    for j in range(4):\n",
    "        if j == 2:\n",
    "            continue\n",
    "        print ('The number is:', i, j)"
   ]
  },
  {
   "cell_type": "markdown",
   "metadata": {},
   "source": [
    "## While/else\n",
    "Something completely different about Python is the while/else construction. \n",
    "while/else is similar to if/else, but there is a difference: the else block will execute anytime the loop condition is evaluated to False. This means that it will execute if the loop is never entered or if the loop exits normally. If the loop exits as the result of a break, the else will not be executed.\n",
    "\n",
    "In this example, the loop will break if a 5 is generated, and the else will not execute. Otherwise, after 3 numbers are generated, the loop condition will become false and the else will execute:"
   ]
  },
  {
   "cell_type": "code",
   "execution_count": 2,
   "metadata": {},
   "outputs": [
    {
     "name": "stdout",
     "output_type": "stream",
     "text": [
      "Lucky Numbers! 3 numbers will be generated.\n",
      "If one of them is a '5', you lose!\n",
      "2\n",
      "6\n",
      "1\n",
      "You win!\n"
     ]
    }
   ],
   "source": [
    "import random\n",
    "\n",
    "print (\"Lucky Numbers! 3 numbers will be generated.\")\n",
    "print (\"If one of them is a '5', you lose!\")\n",
    "\n",
    "count = 0\n",
    "while count < 3:\n",
    "  num = random.randint(1, 6)\n",
    "  print (num)\n",
    "  if num == 5:\n",
    "    print (\"Sorry, you lose!\")\n",
    "    break\n",
    "  count += 1\n",
    "else:\n",
    "  print (\"You win!\")"
   ]
  },
  {
   "cell_type": "markdown",
   "metadata": {},
   "source": [
    "## For/else\n",
    "Works the same as while/else"
   ]
  },
  {
   "cell_type": "code",
   "execution_count": 7,
   "metadata": {},
   "outputs": [
    {
     "name": "stdout",
     "output_type": "stream",
     "text": [
      "You have...\n",
      "A banana\n",
      "A apple\n",
      "A orange\n",
      "A tomato is not a fruit!\n"
     ]
    }
   ],
   "source": [
    "fruits = ['banana', 'apple', 'orange', 'tomato', 'pear', 'grape']\n",
    "\n",
    "print ('You have...')\n",
    "for f in fruits:\n",
    "  if f == 'tomato':\n",
    "    print ('A tomato is not a fruit!')\n",
    "    break\n",
    "  print ('A', f)\n",
    "else:\n",
    "  print ('A fine selection of fruits!')"
   ]
  },
  {
   "cell_type": "markdown",
   "metadata": {},
   "source": [
    "## For your string\n",
    "Using a for loop, you can print out each individual character in a string.\n",
    "\n",
    "The example below is almost plain English: “for each character c in thing, print c“"
   ]
  },
  {
   "cell_type": "code",
   "execution_count": 1,
   "metadata": {},
   "outputs": [
    {
     "name": "stdout",
     "output_type": "stream",
     "text": [
      "s\n",
      "p\n",
      "a\n",
      "m\n",
      "!\n",
      "e\n",
      "g\n",
      "g\n",
      "s\n",
      "!\n"
     ]
    }
   ],
   "source": [
    "thing = 'spam!'\n",
    "for c in thing:\n",
    "    print (c)\n",
    "\n",
    "word = 'eggs!'\n",
    "for i in word:\n",
    "    print (i)"
   ]
  },
  {
   "cell_type": "markdown",
   "metadata": {},
   "source": [
    "## For your list\n",
    "Perhaps the most useful (and most common) use of for loops is to go through a list.\n",
    "\n",
    "On each iteration, the variable num will be the next value in the list. So, the first time through, it will be 7, the second time it will be 9, then 12, 54, 99, and then the loop will exit when there are no more values in the list"
   ]
  },
  {
   "cell_type": "code",
   "execution_count": 2,
   "metadata": {},
   "outputs": [
    {
     "name": "stdout",
     "output_type": "stream",
     "text": [
      "This list contains: \n",
      "7\n",
      "9\n",
      "12\n",
      "54\n",
      "99\n"
     ]
    }
   ],
   "source": [
    "numbers = [7, 9, 12, 54, 99]\n",
    "print ('This list contains: ')\n",
    "for num in numbers:\n",
    "    print (num)"
   ]
  },
  {
   "cell_type": "markdown",
   "metadata": {},
   "source": [
    "## Looping over a dictionary\n",
    "You may be wondering how looping over a dictionary would work. Would you get the key or the value?\n",
    "\n",
    "The short answer is: you get the key which you can use to get the value."
   ]
  },
  {
   "cell_type": "code",
   "execution_count": 4,
   "metadata": {},
   "outputs": [
    {
     "name": "stdout",
     "output_type": "stream",
     "text": [
      "a apple\n",
      "b berry\n",
      "c cherry\n"
     ]
    }
   ],
   "source": [
    "d = {'a': 'apple', 'b': 'berry', 'c': 'cherry'}\n",
    "for key in d:\n",
    "    print (key, d[key])"
   ]
  },
  {
   "cell_type": "markdown",
   "metadata": {},
   "source": [
    "## Multiple lists- zip function\n",
    "It’s also common to need to iterate over two lists at once. This is where the built-in zip function comes in handy.\n",
    "\n",
    "zip will create pairs of elements when passed two lists, and will stop at the end of the shorter list.\n",
    "\n",
    "zip can handle three or more lists as well"
   ]
  },
  {
   "cell_type": "code",
   "execution_count": 5,
   "metadata": {},
   "outputs": [
    {
     "name": "stdout",
     "output_type": "stream",
     "text": [
      "3\n",
      "9\n",
      "17\n",
      "15\n",
      "30\n"
     ]
    }
   ],
   "source": [
    "list_a = [3, 9, 17, 15, 19]\n",
    "list_b = [2, 4, 8, 10, 30, 40, 50, 60, 70, 80, 90]\n",
    "\n",
    "for a, b in zip(list_a, list_b):\n",
    "  if a>b:\n",
    "    print (a)\n",
    "  else:\n",
    "    print (b)"
   ]
  }
 ],
 "metadata": {
  "interpreter": {
   "hash": "48ed341b6f63f0053d590fe0e5e295e54b1bfed5059adeb0dc11192f2dc45088"
  },
  "kernelspec": {
   "display_name": "Python 3.9.7 ('.venv': venv)",
   "language": "python",
   "name": "python3"
  },
  "language_info": {
   "codemirror_mode": {
    "name": "ipython",
    "version": 3
   },
   "file_extension": ".py",
   "mimetype": "text/x-python",
   "name": "python",
   "nbconvert_exporter": "python",
   "pygments_lexer": "ipython3",
   "version": "3.10.4"
  },
  "orig_nbformat": 4
 },
 "nbformat": 4,
 "nbformat_minor": 2
}
