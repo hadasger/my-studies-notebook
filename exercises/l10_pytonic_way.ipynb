{
 "cells": [
  {
   "cell_type": "markdown",
   "metadata": {},
   "source": [
    "## Ex1- creating a new list from two lists in one line of code"
   ]
  },
  {
   "cell_type": "code",
   "execution_count": 5,
   "metadata": {},
   "outputs": [
    {
     "name": "stdout",
     "output_type": "stream",
     "text": [
      "[['The Notebook is palyed by Rachel McAdams', 'Maleficent is palyed by Angelina Jolie', 'Batman v Superman is palyed by Gal Gadot', 'Black Swan is palyed by Natalie Portman', 'Gone Girl is palyed by Rosamund Pike', 'War of the world is palyed by Dakota Fanning', 'Just Married is palyed by Brittany Murphy']]\n"
     ]
    }
   ],
   "source": [
    "movie = ['The Notebook', 'Maleficent', 'Batman v Superman', 'Black Swan', 'Gone Girl', 'War of the world', 'Just Married']\n",
    "actress = ['Rachel McAdams', 'Angelina Jolie', 'Gal Gadot', 'Natalie Portman', 'Rosamund Pike', 'Dakota Fanning', 'Brittany Murphy']\n",
    "my_list = [list(map(lambda x,y: x+' is palyed by '+y, movie, actress))]\n",
    "print (my_list)"
   ]
  },
  {
   "cell_type": "code",
   "execution_count": 13,
   "metadata": {},
   "outputs": [
    {
     "data": {
      "text/plain": [
       "['The Notebook is played by Rachel McAdams',\n",
       " 'Maleficent is played by Angelina Jolie',\n",
       " 'Batman v Superman is played by Gal Gadot',\n",
       " 'Black Swan is played by Natalie Portman',\n",
       " 'Gone Girl is played by Rosamund Pike',\n",
       " 'War of the world is played by Dakota Fanning',\n",
       " 'Just Married is played by Brittany Murphy']"
      ]
     },
     "execution_count": 13,
     "metadata": {},
     "output_type": "execute_result"
    }
   ],
   "source": [
    "# Solution\n",
    "[movie+' is played by '+actress for (movie, actress) in zip(movie, actress)]"
   ]
  },
  {
   "cell_type": "markdown",
   "metadata": {},
   "source": [
    "## Ex2- creating a dictionary from the two lists above"
   ]
  },
  {
   "cell_type": "code",
   "execution_count": 8,
   "metadata": {},
   "outputs": [
    {
     "name": "stdout",
     "output_type": "stream",
     "text": [
      "{'The Notebook': 'Rachel McAdams', 'Maleficent': 'Angelina Jolie', 'Batman v Superman': 'Gal Gadot', 'Black Swan': 'Natalie Portman', 'Gone Girl': 'Rosamund Pike', 'War of the world': 'Dakota Fanning', 'Just Married': 'Brittany Murphy'}\n"
     ]
    }
   ],
   "source": [
    "movies = dict(zip(movie, actress))\n",
    "print(movies)"
   ]
  },
  {
   "cell_type": "code",
   "execution_count": 17,
   "metadata": {},
   "outputs": [],
   "source": [
    "# solution\n",
    "movies = {k:v for (k,v) in zip(movie,actress)}"
   ]
  },
  {
   "cell_type": "markdown",
   "metadata": {},
   "source": [
    "## Ex3- write a single line code that will represent the same list as in ex1"
   ]
  },
  {
   "cell_type": "code",
   "execution_count": 12,
   "metadata": {},
   "outputs": [
    {
     "data": {
      "text/plain": [
       "<generator object <genexpr> at 0x7fb07aba74a0>"
      ]
     },
     "execution_count": 12,
     "metadata": {},
     "output_type": "execute_result"
    }
   ],
   "source": [
    "(print(movie_actress) for movie_actress in movies)\n"
   ]
  },
  {
   "cell_type": "code",
   "execution_count": 18,
   "metadata": {},
   "outputs": [
    {
     "data": {
      "text/plain": [
       "['The Notebook is played by Rachel McAdams',\n",
       " 'Maleficent is played by Angelina Jolie',\n",
       " 'Batman v Superman is played by Gal Gadot',\n",
       " 'Black Swan is played by Natalie Portman',\n",
       " 'Gone Girl is played by Rosamund Pike',\n",
       " 'War of the world is played by Dakota Fanning',\n",
       " 'Just Married is played by Brittany Murphy']"
      ]
     },
     "execution_count": 18,
     "metadata": {},
     "output_type": "execute_result"
    }
   ],
   "source": [
    "# solution\n",
    "[k+' is played by '+v for (k,v) in movies.items()]"
   ]
  },
  {
   "cell_type": "markdown",
   "metadata": {},
   "source": [
    "## Ex4"
   ]
  },
  {
   "cell_type": "code",
   "execution_count": 20,
   "metadata": {},
   "outputs": [
    {
     "name": "stdout",
     "output_type": "stream",
     "text": [
      "[200, 400, 600, 800]\n"
     ]
    }
   ],
   "source": [
    "my_list = [num*100 for num in range(1,10) if num%2 == 0]\n",
    "print(my_list)"
   ]
  },
  {
   "cell_type": "code",
   "execution_count": 34,
   "metadata": {},
   "outputs": [
    {
     "data": {
      "text/plain": [
       "[200, 400, 600, 800]"
      ]
     },
     "execution_count": 34,
     "metadata": {},
     "output_type": "execute_result"
    }
   ],
   "source": [
    "# convert\n",
    "list(map(lambda num:num*100, filter(lambda num:num%2 ==0, range(1,10))))"
   ]
  },
  {
   "cell_type": "markdown",
   "metadata": {},
   "source": [
    "## Ex5"
   ]
  },
  {
   "cell_type": "code",
   "execution_count": 30,
   "metadata": {},
   "outputs": [
    {
     "name": "stdout",
     "output_type": "stream",
     "text": [
      "[1, 200, 3, 400, 5, 600, 7, 800, 9]\n"
     ]
    }
   ],
   "source": [
    "my_list = [x*100 if x %2 == 0 else x for x in range(1,10)]\n",
    "print(my_list)"
   ]
  },
  {
   "cell_type": "code",
   "execution_count": 35,
   "metadata": {},
   "outputs": [
    {
     "data": {
      "text/plain": [
       "[1, 200, 3, 400, 5, 600, 7, 800, 9]"
      ]
     },
     "execution_count": 35,
     "metadata": {},
     "output_type": "execute_result"
    }
   ],
   "source": [
    "#convert\n",
    "list(map(lambda x: x*100 if x %2 ==0 else x, range(1,10)))"
   ]
  },
  {
   "cell_type": "markdown",
   "metadata": {},
   "source": [
    "## Ex6- 7 boom"
   ]
  },
  {
   "cell_type": "code",
   "execution_count": 33,
   "metadata": {},
   "outputs": [],
   "source": [
    "my_list = ['Boom' if x%7 == 0 else x for x in range(1,100)]"
   ]
  },
  {
   "cell_type": "code",
   "execution_count": 36,
   "metadata": {},
   "outputs": [
    {
     "data": {
      "text/plain": [
       "[1,\n",
       " 2,\n",
       " 3,\n",
       " 4,\n",
       " 5,\n",
       " 6,\n",
       " 'Boom',\n",
       " 8,\n",
       " 9,\n",
       " 10,\n",
       " 11,\n",
       " 12,\n",
       " 13,\n",
       " 'Boom',\n",
       " 15,\n",
       " 16,\n",
       " 17,\n",
       " 18,\n",
       " 19,\n",
       " 20,\n",
       " 'Boom',\n",
       " 22,\n",
       " 23,\n",
       " 24,\n",
       " 25,\n",
       " 26,\n",
       " 27,\n",
       " 'Boom',\n",
       " 29,\n",
       " 30,\n",
       " 31,\n",
       " 32,\n",
       " 33,\n",
       " 34,\n",
       " 'Boom',\n",
       " 36,\n",
       " 37,\n",
       " 38,\n",
       " 39,\n",
       " 40,\n",
       " 41,\n",
       " 'Boom',\n",
       " 43,\n",
       " 44,\n",
       " 45,\n",
       " 46,\n",
       " 47,\n",
       " 48,\n",
       " 'Boom',\n",
       " 50,\n",
       " 51,\n",
       " 52,\n",
       " 53,\n",
       " 54,\n",
       " 55,\n",
       " 'Boom',\n",
       " 57,\n",
       " 58,\n",
       " 59,\n",
       " 60,\n",
       " 61,\n",
       " 62,\n",
       " 'Boom',\n",
       " 64,\n",
       " 65,\n",
       " 66,\n",
       " 67,\n",
       " 68,\n",
       " 69,\n",
       " 'Boom',\n",
       " 71,\n",
       " 72,\n",
       " 73,\n",
       " 74,\n",
       " 75,\n",
       " 76,\n",
       " 'Boom',\n",
       " 78,\n",
       " 79,\n",
       " 80,\n",
       " 81,\n",
       " 82,\n",
       " 83,\n",
       " 'Boom',\n",
       " 85,\n",
       " 86,\n",
       " 87,\n",
       " 88,\n",
       " 89,\n",
       " 90,\n",
       " 'Boom',\n",
       " 92,\n",
       " 93,\n",
       " 94,\n",
       " 95,\n",
       " 96,\n",
       " 97,\n",
       " 'Boom',\n",
       " 99]"
      ]
     },
     "execution_count": 36,
     "metadata": {},
     "output_type": "execute_result"
    }
   ],
   "source": [
    "# convert\n",
    "list(map(lambda x: 'Boom' if x%7 == 0 else x, range(1,100)))"
   ]
  },
  {
   "cell_type": "markdown",
   "metadata": {},
   "source": [
    "## Ex7"
   ]
  },
  {
   "cell_type": "code",
   "execution_count": 38,
   "metadata": {},
   "outputs": [],
   "source": [
    "x=5\n",
    "y=7\n",
    "sum_num = lambda x,y: x+y"
   ]
  },
  {
   "cell_type": "markdown",
   "metadata": {},
   "source": [
    "## Ex8- list of tuples"
   ]
  },
  {
   "cell_type": "code",
   "execution_count": 5,
   "metadata": {},
   "outputs": [
    {
     "data": {
      "text/plain": [
       "[(1, 1),\n",
       " (1, 2),\n",
       " (1, 3),\n",
       " (1, 4),\n",
       " (1, 5),\n",
       " (1, 6),\n",
       " (2, 1),\n",
       " (2, 2),\n",
       " (2, 3),\n",
       " (2, 4),\n",
       " (2, 5),\n",
       " (2, 6),\n",
       " (3, 1),\n",
       " (3, 2),\n",
       " (3, 3),\n",
       " (3, 4),\n",
       " (3, 5),\n",
       " (3, 6),\n",
       " (4, 1),\n",
       " (4, 2),\n",
       " (4, 3),\n",
       " (4, 4),\n",
       " (4, 5),\n",
       " (4, 6),\n",
       " (5, 1),\n",
       " (5, 2),\n",
       " (5, 3),\n",
       " (5, 4),\n",
       " (5, 5),\n",
       " (5, 6),\n",
       " (6, 1),\n",
       " (6, 2),\n",
       " (6, 3),\n",
       " (6, 4),\n",
       " (6, 5),\n",
       " (6, 6)]"
      ]
     },
     "execution_count": 5,
     "metadata": {},
     "output_type": "execute_result"
    }
   ],
   "source": [
    "[(x,y) for x in range(1,7) for y in range(1,7)]"
   ]
  },
  {
   "cell_type": "markdown",
   "metadata": {},
   "source": [
    "## Ex 9- a list of tuples- Joules, Kilocalories"
   ]
  },
  {
   "cell_type": "code",
   "execution_count": 6,
   "metadata": {},
   "outputs": [
    {
     "data": {
      "text/plain": [
       "[(5000, 1.1950286806883366),\n",
       " (8000, 1.9120458891013383),\n",
       " (10000, 2.390057361376673),\n",
       " (6000, 1.4340344168260037),\n",
       " (12000, 2.8680688336520075)]"
      ]
     },
     "execution_count": 6,
     "metadata": {},
     "output_type": "execute_result"
    }
   ],
   "source": [
    "joules = [5000, 8000, 10000, 6000, 12000]\n",
    "[(x,x/4184) for x in joules]"
   ]
  },
  {
   "cell_type": "code",
   "execution_count": 7,
   "metadata": {},
   "outputs": [
    {
     "data": {
      "text/plain": [
       "[(5000, <function __main__.<listcomp>.<lambda>(x)>),\n",
       " (8000, <function __main__.<listcomp>.<lambda>(x)>),\n",
       " (10000, <function __main__.<listcomp>.<lambda>(x)>),\n",
       " (6000, <function __main__.<listcomp>.<lambda>(x)>),\n",
       " (12000, <function __main__.<listcomp>.<lambda>(x)>)]"
      ]
     },
     "execution_count": 7,
     "metadata": {},
     "output_type": "execute_result"
    }
   ],
   "source": [
    "# convert\n",
    "[(x, lambda x: x/4184) for x in joules]"
   ]
  },
  {
   "cell_type": "code",
   "execution_count": 8,
   "metadata": {},
   "outputs": [
    {
     "data": {
      "text/plain": [
       "[(5000, 1.1950286806883366),\n",
       " (8000, 1.9120458891013383),\n",
       " (10000, 2.390057361376673),\n",
       " (6000, 1.4340344168260037),\n",
       " (12000, 2.8680688336520075)]"
      ]
     },
     "execution_count": 8,
     "metadata": {},
     "output_type": "execute_result"
    }
   ],
   "source": [
    "# solution\n",
    "[(j, cal) for (j,cal) in zip(joules, map(lambda j:j/4184, joules))]\n",
    "\n",
    "[(j, cal) for (j, cal) in zip(joules,[j/4184 for j in joules])]"
   ]
  },
  {
   "cell_type": "markdown",
   "metadata": {},
   "source": [
    "## Ex 10"
   ]
  },
  {
   "cell_type": "code",
   "execution_count": 9,
   "metadata": {},
   "outputs": [
    {
     "name": "stdout",
     "output_type": "stream",
     "text": [
      "['Python']\n"
     ]
    }
   ],
   "source": [
    "languages = ['HTML', 'JavaScript', 'Python', 'Ruby']\n",
    "print(list(filter(lambda lang: lang == 'Python', languages)))"
   ]
  },
  {
   "cell_type": "code",
   "execution_count": 10,
   "metadata": {},
   "outputs": [
    {
     "data": {
      "text/plain": [
       "['Python']"
      ]
     },
     "execution_count": 10,
     "metadata": {},
     "output_type": "execute_result"
    }
   ],
   "source": [
    "# convert\n",
    "[word for word in languages if word == 'Python']"
   ]
  },
  {
   "cell_type": "markdown",
   "metadata": {},
   "source": [
    "## Ex1- Anagrams"
   ]
  },
  {
   "cell_type": "code",
   "execution_count": 13,
   "metadata": {},
   "outputs": [
    {
     "name": "stdout",
     "output_type": "stream",
     "text": [
      "False\n"
     ]
    }
   ],
   "source": [
    "def is_anagram(str1, str2):\n",
    "    str1_list = list(str1)\n",
    "    str2_list = list(str2)\n",
    "\n",
    "    return sorted(str1_list) == sorted(str2_list)\n",
    "\n",
    "print(is_anagram('cat', 'rat'))"
   ]
  },
  {
   "cell_type": "code",
   "execution_count": 18,
   "metadata": {},
   "outputs": [
    {
     "name": "stdout",
     "output_type": "stream",
     "text": [
      "<filter object at 0x7feb40573e80>\n"
     ]
    }
   ],
   "source": [
    "def is_anagram_convert(str1, str2):\n",
    "    answer = filter(lambda x: sorted(str1) == sorted(x), str2)\n",
    "    return answer\n",
    "\n",
    "print (is_anagram_convert('listen', 'nestli'))"
   ]
  },
  {
   "cell_type": "markdown",
   "metadata": {},
   "source": [
    "## Ex2- Roman Numerals\n",
    "\n",
    "Write a code that receives a roman numeral and converts it into a number"
   ]
  },
  {
   "cell_type": "code",
   "execution_count": 14,
   "metadata": {},
   "outputs": [
    {
     "name": "stdout",
     "output_type": "stream",
     "text": [
      "60\n"
     ]
    }
   ],
   "source": [
    "roman_dict = {'I':1, 'V':5, 'X':10, 'L':50, 'C':100, 'D':500, 'M':1000}\n",
    "\n",
    "def roman_num(str1):\n",
    "    old_num = roman_dict[str1[0]]\n",
    "    final_num = 0\n",
    "    for letter in str1:\n",
    "        num = roman_dict[letter]\n",
    "        if old_num < num:\n",
    "            final_num = final_num + (num - old_num) - old_num\n",
    "        else:\n",
    "            final_num += num\n",
    "        old_num = num\n",
    "    print(final_num)\n",
    "\n",
    "roman_num('LX')"
   ]
  },
  {
   "cell_type": "markdown",
   "metadata": {},
   "source": [
    "## Ex3- Plus1\n",
    "\n",
    "Write a function that takes a list of numbers and increments it by `1`"
   ]
  },
  {
   "cell_type": "code",
   "execution_count": 1,
   "metadata": {},
   "outputs": [
    {
     "name": "stdout",
     "output_type": "stream",
     "text": [
      "[8, 8, 8]\n"
     ]
    }
   ],
   "source": [
    "def plus1(digits):\n",
    "    str_digits = ''\n",
    "    for num in digits:\n",
    "        str_digits += str(num)\n",
    "    num_plus1 = int(str_digits)+1\n",
    "    new_str_digits = str(num_plus1)\n",
    "    new_list = []\n",
    "    for digit in new_str_digits:\n",
    "        new_list.append(int(digit))\n",
    "\n",
    "    print(new_list)\n",
    "\n",
    "plus1([8,8,7])\n"
   ]
  }
 ],
 "metadata": {
  "interpreter": {
   "hash": "48ed341b6f63f0053d590fe0e5e295e54b1bfed5059adeb0dc11192f2dc45088"
  },
  "kernelspec": {
   "display_name": "Python 3.9.7 ('.venv': venv)",
   "language": "python",
   "name": "python3"
  },
  "language_info": {
   "codemirror_mode": {
    "name": "ipython",
    "version": 3
   },
   "file_extension": ".py",
   "mimetype": "text/x-python",
   "name": "python",
   "nbconvert_exporter": "python",
   "pygments_lexer": "ipython3",
   "version": "3.9.7"
  },
  "orig_nbformat": 4
 },
 "nbformat": 4,
 "nbformat_minor": 2
}
